{
 "cells": [
  {
   "cell_type": "code",
   "execution_count": 55,
   "metadata": {},
   "outputs": [],
   "source": [
    "import matplotlib\n",
    "import matplotlib.pyplot as plt\n",
    "import seaborn as sns\n",
    "import numpy as np\n",
    "import pandas as pd\n",
    "import re\n",
    "from scipy import stats\n",
    "from datetime import datetime\n",
    "\n",
    "start = datetime.now()\n",
    "matplotlib.rcParams['figure.figsize'] = (10, 7)"
   ]
  },
  {
   "cell_type": "code",
   "execution_count": 56,
   "metadata": {},
   "outputs": [],
   "source": [
    "df = pd.read_parquet(\"car_data.parquet.gzip\", use_nullable_dtypes=False)\n",
    "df = df.replace({None: np.nan})\n",
    "# Rename the col names to be more consistent + pythonic \n",
    "rename_dict = dict()\n",
    "for col in df.columns:\n",
    "    if \"-\" in col:\n",
    "        rename_dict[col] = col.replace('-', '_')\n",
    "rename_dict = {**rename_dict, **{'dellerswebsite': 'sellerwebsite'}}\n",
    "df = df.rename(columns=rename_dict) "
   ]
  },
  {
   "cell_type": "code",
   "execution_count": 57,
   "metadata": {},
   "outputs": [
    {
     "name": "stdout",
     "output_type": "stream",
     "text": [
      "(225483, 31)\n"
     ]
    },
    {
     "data": {
      "text/html": [
       "<div>\n",
       "<style scoped>\n",
       "    .dataframe tbody tr th:only-of-type {\n",
       "        vertical-align: middle;\n",
       "    }\n",
       "\n",
       "    .dataframe tbody tr th {\n",
       "        vertical-align: top;\n",
       "    }\n",
       "\n",
       "    .dataframe thead th {\n",
       "        text-align: right;\n",
       "    }\n",
       "</style>\n",
       "<table border=\"1\" class=\"dataframe\">\n",
       "  <thead>\n",
       "    <tr style=\"text-align: right;\">\n",
       "      <th></th>\n",
       "      <th>make</th>\n",
       "      <th>model</th>\n",
       "      <th>trim</th>\n",
       "      <th>transmission</th>\n",
       "      <th>fuel_type</th>\n",
       "      <th>body_type</th>\n",
       "      <th>generation</th>\n",
       "      <th>doors</th>\n",
       "      <th>seats</th>\n",
       "      <th>mileage</th>\n",
       "      <th>...</th>\n",
       "      <th>co2Emissions</th>\n",
       "      <th>mileageDeviation</th>\n",
       "      <th>adverttitle</th>\n",
       "      <th>advert</th>\n",
       "      <th>mainimage</th>\n",
       "      <th>images</th>\n",
       "      <th>sellerpostcode</th>\n",
       "      <th>sellerwebsite</th>\n",
       "      <th>annual_tax</th>\n",
       "      <th>todaysdate</th>\n",
       "    </tr>\n",
       "  </thead>\n",
       "  <tbody>\n",
       "    <tr>\n",
       "      <th>0</th>\n",
       "      <td>Daimler</td>\n",
       "      <td>Double Six</td>\n",
       "      <td>NaN</td>\n",
       "      <td>Automatic</td>\n",
       "      <td>Petrol</td>\n",
       "      <td>Saloon</td>\n",
       "      <td>NaN</td>\n",
       "      <td>4 doors</td>\n",
       "      <td>5 seats</td>\n",
       "      <td>19,000 miles</td>\n",
       "      <td>...</td>\n",
       "      <td>NaN</td>\n",
       "      <td>NaN</td>\n",
       "      <td>Daimler Double Six 5.3 4dr</td>\n",
       "      <td>A rare and stunning example of this modern cla...</td>\n",
       "      <td>https://m.atcdn.co.uk/a/media/{resize}/70ce1ad...</td>\n",
       "      <td>https://m.atcdn.co.uk/a/media/{resize}/70ce1ad...</td>\n",
       "      <td>B93 0EF</td>\n",
       "      <td>http://www.concoursmotorco.com/</td>\n",
       "      <td>NaN</td>\n",
       "      <td>23/03/2021</td>\n",
       "    </tr>\n",
       "    <tr>\n",
       "      <th>1</th>\n",
       "      <td>Abarth</td>\n",
       "      <td>695</td>\n",
       "      <td>Rivale</td>\n",
       "      <td>Manual</td>\n",
       "      <td>Petrol</td>\n",
       "      <td>Hatchback</td>\n",
       "      <td>Hatchback (2014 - )</td>\n",
       "      <td>3 doors</td>\n",
       "      <td>4 seats</td>\n",
       "      <td>17,464 miles</td>\n",
       "      <td>...</td>\n",
       "      <td>139g/km</td>\n",
       "      <td>{'predictedMileage': 13432, 'deviation': 4032,...</td>\n",
       "      <td>Abarth 695 1.4 T-Jet Rivale 3dr</td>\n",
       "      <td>CLICK AND COLLECT AVAILABLE, 180 Bhp VERY Limi...</td>\n",
       "      <td>https://m.atcdn.co.uk/a/media/{resize}/a29e99d...</td>\n",
       "      <td>https://m.atcdn.co.uk/a/media/{resize}/a29e99d...</td>\n",
       "      <td>SL6 4LB</td>\n",
       "      <td>http://www.alfaaid.co.uk</td>\n",
       "      <td>150.0</td>\n",
       "      <td>23/03/2021</td>\n",
       "    </tr>\n",
       "    <tr>\n",
       "      <th>2</th>\n",
       "      <td>Abarth</td>\n",
       "      <td>695</td>\n",
       "      <td>Biposto Record</td>\n",
       "      <td>Manual</td>\n",
       "      <td>Petrol</td>\n",
       "      <td>Hatchback</td>\n",
       "      <td>Hatchback (2014 - )</td>\n",
       "      <td>3 doors</td>\n",
       "      <td>2 seats</td>\n",
       "      <td>8,500 miles</td>\n",
       "      <td>...</td>\n",
       "      <td>145g/km</td>\n",
       "      <td>{'predictedMileage': 8753, 'deviation': 253, '...</td>\n",
       "      <td>Abarth 695 1.4 T-Jet Biposto Record 3dr</td>\n",
       "      <td>Our Abarth 695 Biposto Record is an exceptiona...</td>\n",
       "      <td>https://m.atcdn.co.uk/a/media/{resize}/1499516...</td>\n",
       "      <td>https://m.atcdn.co.uk/a/media/{resize}/1499516...</td>\n",
       "      <td>SY13 1LR</td>\n",
       "      <td>http://pocketrocketsales.co.uk/</td>\n",
       "      <td>165.0</td>\n",
       "      <td>23/03/2021</td>\n",
       "    </tr>\n",
       "    <tr>\n",
       "      <th>3</th>\n",
       "      <td>Abarth</td>\n",
       "      <td>500C</td>\n",
       "      <td>NaN</td>\n",
       "      <td>Automatic</td>\n",
       "      <td>Petrol</td>\n",
       "      <td>Convertible</td>\n",
       "      <td>Convertible (2010 - 2016)</td>\n",
       "      <td>2 doors</td>\n",
       "      <td>4 seats</td>\n",
       "      <td>17,000 miles</td>\n",
       "      <td>...</td>\n",
       "      <td>NaN</td>\n",
       "      <td>{'predictedMileage': 28373, 'deviation': 11373...</td>\n",
       "      <td>Abarth 500C 1.4 T-Jet MTA 2dr</td>\n",
       "      <td>Details to follow , 12 months MOT, Full servic...</td>\n",
       "      <td>https://m.atcdn.co.uk/a/media/{resize}/efe7d1e...</td>\n",
       "      <td>https://m.atcdn.co.uk/a/media/{resize}/efe7d1e...</td>\n",
       "      <td>SL6 9SN</td>\n",
       "      <td>https://dmsgateway.autotrader.co.uk/api/advert...</td>\n",
       "      <td>NaN</td>\n",
       "      <td>23/03/2021</td>\n",
       "    </tr>\n",
       "    <tr>\n",
       "      <th>4</th>\n",
       "      <td>Abarth</td>\n",
       "      <td>595C</td>\n",
       "      <td>Turismo</td>\n",
       "      <td>Manual</td>\n",
       "      <td>Petrol</td>\n",
       "      <td>Convertible</td>\n",
       "      <td>Convertible (2016 - )</td>\n",
       "      <td>2 doors</td>\n",
       "      <td>4 seats</td>\n",
       "      <td>12,900 miles</td>\n",
       "      <td>...</td>\n",
       "      <td>139g/km</td>\n",
       "      <td>{'predictedMileage': 24354, 'deviation': 11454...</td>\n",
       "      <td>Abarth 595C 1.4 T-Jet Turismo Cabrio 2dr</td>\n",
       "      <td>Awesome little rare beauty! This luxury Abarth...</td>\n",
       "      <td>https://m.atcdn.co.uk/a/media/{resize}/22f4170...</td>\n",
       "      <td>https://m.atcdn.co.uk/a/media/{resize}/22f4170...</td>\n",
       "      <td>DE1 3PA</td>\n",
       "      <td>https://dmsgateway.autotrader.co.uk/api/advert...</td>\n",
       "      <td>150.0</td>\n",
       "      <td>23/03/2021</td>\n",
       "    </tr>\n",
       "  </tbody>\n",
       "</table>\n",
       "<p>5 rows × 31 columns</p>\n",
       "</div>"
      ],
      "text/plain": [
       "      make       model            trim transmission fuel_type    body_type  \\\n",
       "0  Daimler  Double Six             NaN    Automatic    Petrol       Saloon   \n",
       "1   Abarth         695          Rivale       Manual    Petrol    Hatchback   \n",
       "2   Abarth         695  Biposto Record       Manual    Petrol    Hatchback   \n",
       "3   Abarth        500C             NaN    Automatic    Petrol  Convertible   \n",
       "4   Abarth        595C         Turismo       Manual    Petrol  Convertible   \n",
       "\n",
       "                  generation    doors    seats       mileage  ...  \\\n",
       "0                        NaN  4 doors  5 seats  19,000 miles  ...   \n",
       "1        Hatchback (2014 - )  3 doors  4 seats  17,464 miles  ...   \n",
       "2        Hatchback (2014 - )  3 doors  2 seats   8,500 miles  ...   \n",
       "3  Convertible (2010 - 2016)  2 doors  4 seats  17,000 miles  ...   \n",
       "4      Convertible (2016 - )  2 doors  4 seats  12,900 miles  ...   \n",
       "\n",
       "  co2Emissions                                   mileageDeviation  \\\n",
       "0          NaN                                                NaN   \n",
       "1      139g/km  {'predictedMileage': 13432, 'deviation': 4032,...   \n",
       "2      145g/km  {'predictedMileage': 8753, 'deviation': 253, '...   \n",
       "3          NaN  {'predictedMileage': 28373, 'deviation': 11373...   \n",
       "4      139g/km  {'predictedMileage': 24354, 'deviation': 11454...   \n",
       "\n",
       "                                adverttitle  \\\n",
       "0                Daimler Double Six 5.3 4dr   \n",
       "1           Abarth 695 1.4 T-Jet Rivale 3dr   \n",
       "2   Abarth 695 1.4 T-Jet Biposto Record 3dr   \n",
       "3             Abarth 500C 1.4 T-Jet MTA 2dr   \n",
       "4  Abarth 595C 1.4 T-Jet Turismo Cabrio 2dr   \n",
       "\n",
       "                                              advert  \\\n",
       "0  A rare and stunning example of this modern cla...   \n",
       "1  CLICK AND COLLECT AVAILABLE, 180 Bhp VERY Limi...   \n",
       "2  Our Abarth 695 Biposto Record is an exceptiona...   \n",
       "3  Details to follow , 12 months MOT, Full servic...   \n",
       "4  Awesome little rare beauty! This luxury Abarth...   \n",
       "\n",
       "                                           mainimage  \\\n",
       "0  https://m.atcdn.co.uk/a/media/{resize}/70ce1ad...   \n",
       "1  https://m.atcdn.co.uk/a/media/{resize}/a29e99d...   \n",
       "2  https://m.atcdn.co.uk/a/media/{resize}/1499516...   \n",
       "3  https://m.atcdn.co.uk/a/media/{resize}/efe7d1e...   \n",
       "4  https://m.atcdn.co.uk/a/media/{resize}/22f4170...   \n",
       "\n",
       "                                              images sellerpostcode  \\\n",
       "0  https://m.atcdn.co.uk/a/media/{resize}/70ce1ad...        B93 0EF   \n",
       "1  https://m.atcdn.co.uk/a/media/{resize}/a29e99d...        SL6 4LB   \n",
       "2  https://m.atcdn.co.uk/a/media/{resize}/1499516...       SY13 1LR   \n",
       "3  https://m.atcdn.co.uk/a/media/{resize}/efe7d1e...        SL6 9SN   \n",
       "4  https://m.atcdn.co.uk/a/media/{resize}/22f4170...        DE1 3PA   \n",
       "\n",
       "                                       sellerwebsite  annual_tax  todaysdate  \n",
       "0                    http://www.concoursmotorco.com/         NaN  23/03/2021  \n",
       "1                           http://www.alfaaid.co.uk       150.0  23/03/2021  \n",
       "2                    http://pocketrocketsales.co.uk/       165.0  23/03/2021  \n",
       "3  https://dmsgateway.autotrader.co.uk/api/advert...         NaN  23/03/2021  \n",
       "4  https://dmsgateway.autotrader.co.uk/api/advert...       150.0  23/03/2021  \n",
       "\n",
       "[5 rows x 31 columns]"
      ]
     },
     "execution_count": 57,
     "metadata": {},
     "output_type": "execute_result"
    }
   ],
   "source": [
    "print(df.shape)\n",
    "df.head()"
   ]
  },
  {
   "cell_type": "code",
   "execution_count": 58,
   "metadata": {},
   "outputs": [
    {
     "data": {
      "text/plain": [
       "Index(['make', 'model', 'trim', 'transmission', 'fuel_type', 'body_type',\n",
       "       'generation', 'doors', 'seats', 'mileage', 'emission_scheme', 'owners',\n",
       "       'manufactured_year', 'engine_size', 'service_history', 'price',\n",
       "       'priceindicators', 'condition', 'imported', 'year', 'vrm',\n",
       "       'co2Emissions', 'mileageDeviation', 'adverttitle', 'advert',\n",
       "       'mainimage', 'images', 'sellerpostcode', 'sellerwebsite', 'annual_tax',\n",
       "       'todaysdate'],\n",
       "      dtype='object')"
      ]
     },
     "execution_count": 58,
     "metadata": {},
     "output_type": "execute_result"
    }
   ],
   "source": [
    "features = df.columns\n",
    "features"
   ]
  },
  {
   "cell_type": "markdown",
   "metadata": {},
   "source": [
    "### Initial Observations\n",
    "- Automatic cars of the same type will likely be more expensive\n",
    "- Certain body types will likely correlate to higher prices (sports car vs family saloon)\n",
    "- Low mileage likely leads to increased price\n",
    "- Fewer owners likely to increase pirce\n",
    "- Current_date - manufactured_year = age. Newer car == more expensive\n",
    "    - manufacture_year is reg, year is when the car was released?\n",
    "    - Might not need the year col because the condition col is there (will need to check if they are congruent)\n",
    "- ULEZ (Ultra low emmisions) might be more desirable in a city car\n",
    "- Service history will need grouping. Generally, a more detailed service history = worth more money\n",
    "- Condition: A new car will be more than used \n",
    "- Imported cars may be more valuable\n",
    "- vrm is the reg plate. Only time this can influence price is if it is a custom reg e.g. p1lot\n",
    "- Maybe can encode some of the text cols into something useful\n",
    "    - Length of title? maybe shorter titles are more eye-catching\n",
    "    - Maybe a longer advert = more information = more expensive\n",
    "- Postcode may influence how much a car will be - more affluent areas are more likely to spend more on a car (i.e the average for a postcode in london may be higher than Stoke-on-Trent)\n",
    "- Seller website column: maybe some sellers consistently list their cars for above market average (reputation etc)\n",
    "- Annual tax - based on co2 emiisions. More emissions = more expensive. This col should be correlated with co2 Emissions\n",
    "\n",
    "\n",
    "## Null Exploration\n",
    "- 95% of the data has at least one null in a column so a naive .dropna() is not an option here.\n",
    "- Imputation techniques will have to vary across columns because they are different types (categorical, discrete, continuous)\n",
    "- 1/5 of the data is being dropped because of the service history column\n",
    "### First Impressions for Null Imputation Strategies\n",
    "- Trim -> Likely drop entire column. Trim is likely to have minimal impact\n",
    "- Transmission -> \"Unkown\" (still only 3 categories so acceptable cardinality)\n",
    "- fuel_type -> \"Unknown\". An Unknown fuel_type could drastically reduce price because it is am important characteristic to know before purchase\n",
    "- body_type -> \"Unknown\". Not sure how much value a body type will add, most people do not consider it when purchasing a car, they think of other things like no. of doors\n",
    "- generation -> Likely drop column because the generation of car is likely only liked to price for specific models. Bias vs Variance\n",
    "- doors -> Likely correlated to the number of seats. Might be able to impute this. If seats isn't null, fill with mean number of doors for number of seats\n",
    "- seats -> Likely correlated to the number of doors. Might be able to impute this. If doors isn't null, fill with mean number of seats for number of doors\n",
    "- mileage -> Typically, this should be numerical so imputation is not suitable. Each car is independent so using mean, median, mode, 0, min, max would not work or make sense\n",
    "- emission_scheme -> This can easily be grouped. ULEZ and N/A or Unknown\n",
    "- owners -> Could be grouped as well (needs exploration) then \"Unkown\" could be included\n",
    "- manufactured_year -> ~10% of data is null so quite high. This is reg information so likely drop this col\n",
    "- engine_size -> Can be grouped again into buckets. Then null -> \"Unknown\"\n",
    "- service_history -> Most nulls of any column. Grouped and then \"Unknown\"\n",
    "- price_indicator -> Difficult to impute without domain knownledge. 77k rows with null so \"Unknown may have to be included to avoid dropping too many cols\n",
    "- year -> Nulls make it impossible to calculate age of car. Could group ages of car (< 1y/o, < 5y/o, <10/yo etc)\n",
    "- vrm -> reg information probably drop. Cant impute or group\n",
    "- co2Emissoons -> grouped into tax bands and then unknown"
   ]
  },
  {
   "cell_type": "code",
   "execution_count": 59,
   "metadata": {},
   "outputs": [
    {
     "data": {
      "text/plain": [
       "make                      0\n",
       "model                     0\n",
       "trim                  18115\n",
       "transmission            328\n",
       "fuel_type               278\n",
       "body_type               503\n",
       "generation             6535\n",
       "doors                  1669\n",
       "seats                  4848\n",
       "mileage               19671\n",
       "emission_scheme       49138\n",
       "owners               121470\n",
       "manufactured_year     19627\n",
       "engine_size            6902\n",
       "service_history      184317\n",
       "price                     0\n",
       "priceindicators       77148\n",
       "condition                 0\n",
       "imported                  0\n",
       "year                   6638\n",
       "vrm                   20350\n",
       "co2Emissions          17658\n",
       "mileageDeviation      40037\n",
       "adverttitle               0\n",
       "advert                    0\n",
       "mainimage              3649\n",
       "images                 3649\n",
       "sellerpostcode        30103\n",
       "sellerwebsite         53778\n",
       "annual_tax            31300\n",
       "todaysdate                0\n",
       "dtype: int64"
      ]
     },
     "execution_count": 59,
     "metadata": {},
     "output_type": "execute_result"
    }
   ],
   "source": [
    "df.isnull().sum()"
   ]
  },
  {
   "cell_type": "code",
   "execution_count": 60,
   "metadata": {},
   "outputs": [
    {
     "name": "stdout",
     "output_type": "stream",
     "text": [
      "Amount data with at least 1 null column: 94.85%\n",
      "Total dataset size: 225483\n",
      "Absolute number of rows dropped: 213873\n",
      "The column with the highest number of nulls (184317) is service_history. This causes 18.26% of the data to be dropped\n"
     ]
    }
   ],
   "source": [
    "total_len = len(df)\n",
    "non_null_len = len(df.dropna())\n",
    "print(f\"Amount data with at least 1 null column: {((total_len - non_null_len) / total_len) * 100:.2f}%\")\n",
    "print(f\"Total dataset size: {total_len}\")\n",
    "print(f\"Absolute number of rows dropped: {total_len - non_null_len}\")\n",
    "\n",
    "max_nulls = 0\n",
    "col_name = \"\"\n",
    "for k, v in dict(df.isnull().sum()).items():\n",
    "    if v > max_nulls:\n",
    "        max_nulls = v\n",
    "        col_name = k\n",
    "print(f\"The column with the highest number of nulls ({max_nulls}) is {col_name}. This causes {(total_len - max_nulls) / total_len * 100:.2f}% of the data to be dropped\")"
   ]
  },
  {
   "cell_type": "markdown",
   "metadata": {},
   "source": [
    "### Quick exploration into the target: Price\n",
    "- Col will need cleaning. Currently in a string format (£17,995)\n",
    "    - Remove £ and replace remove comma. Convert to int"
   ]
  },
  {
   "cell_type": "code",
   "execution_count": 61,
   "metadata": {},
   "outputs": [
    {
     "data": {
      "text/plain": [
       "0    17995\n",
       "1    16995\n",
       "2    22995\n",
       "3    11995\n",
       "4    11990\n",
       "Name: price, dtype: int64"
      ]
     },
     "execution_count": 61,
     "metadata": {},
     "output_type": "execute_result"
    }
   ],
   "source": [
    "def clean_target(x):\n",
    "    currency_symbols = ['£', '$', '€']\n",
    "    for symbol in currency_symbols:\n",
    "        x = x.replace(symbol, '')\n",
    "    x = x.replace(',', '')\n",
    "    return int(x)\n",
    "df['price'] = [clean_target(x) for x in df.price]\n",
    "\n",
    "df.price.head()"
   ]
  },
  {
   "cell_type": "markdown",
   "metadata": {},
   "source": [
    "There is one significant outlier in this data for price\n",
    "VW Transporters of this model are typically £35k - 50k so this is an obvious error and I am confident in excluding this from the dataset\n",
    "\n",
    "If we exclude this significant outlier, the next highest price belongs to a Koenigsegg Agera. This is an extremely expensive car so this price is likely to not be an erroneous outlier.\n",
    "It is still significantly higher than the average price in this dataset "
   ]
  },
  {
   "cell_type": "code",
   "execution_count": 62,
   "metadata": {},
   "outputs": [
    {
     "data": {
      "text/plain": [
       "<AxesSubplot:>"
      ]
     },
     "execution_count": 62,
     "metadata": {},
     "output_type": "execute_result"
    },
    {
     "data": {
      "image/png": "[encoded data removed]",
      "text/plain": [
       "<Figure size 720x504 with 1 Axes>"
      ]
     },
     "metadata": {
      "needs_background": "light"
     },
     "output_type": "display_data"
    }
   ],
   "source": [
    "sns.boxplot(data=np.array(df.price))"
   ]
  },
  {
   "cell_type": "code",
   "execution_count": 63,
   "metadata": {},
   "outputs": [
    {
     "data": {
      "text/html": [
       "<div>\n",
       "<style scoped>\n",
       "    .dataframe tbody tr th:only-of-type {\n",
       "        vertical-align: middle;\n",
       "    }\n",
       "\n",
       "    .dataframe tbody tr th {\n",
       "        vertical-align: top;\n",
       "    }\n",
       "\n",
       "    .dataframe thead th {\n",
       "        text-align: right;\n",
       "    }\n",
       "</style>\n",
       "<table border=\"1\" class=\"dataframe\">\n",
       "  <thead>\n",
       "    <tr style=\"text-align: right;\">\n",
       "      <th></th>\n",
       "      <th>make</th>\n",
       "      <th>model</th>\n",
       "      <th>trim</th>\n",
       "      <th>transmission</th>\n",
       "      <th>fuel_type</th>\n",
       "      <th>body_type</th>\n",
       "      <th>generation</th>\n",
       "      <th>doors</th>\n",
       "      <th>seats</th>\n",
       "      <th>mileage</th>\n",
       "      <th>...</th>\n",
       "      <th>co2Emissions</th>\n",
       "      <th>mileageDeviation</th>\n",
       "      <th>adverttitle</th>\n",
       "      <th>advert</th>\n",
       "      <th>mainimage</th>\n",
       "      <th>images</th>\n",
       "      <th>sellerpostcode</th>\n",
       "      <th>sellerwebsite</th>\n",
       "      <th>annual_tax</th>\n",
       "      <th>todaysdate</th>\n",
       "    </tr>\n",
       "  </thead>\n",
       "  <tbody>\n",
       "    <tr>\n",
       "      <th>27898</th>\n",
       "      <td>Volkswagen</td>\n",
       "      <td>Transporter</td>\n",
       "      <td>Highline</td>\n",
       "      <td>Automatic</td>\n",
       "      <td>Diesel</td>\n",
       "      <td>Combi Van</td>\n",
       "      <td>Combi Van (2019 - )</td>\n",
       "      <td>5 doors</td>\n",
       "      <td>5 seats</td>\n",
       "      <td>NaN</td>\n",
       "      <td>...</td>\n",
       "      <td>NaN</td>\n",
       "      <td>NaN</td>\n",
       "      <td>Volkswagen Transporter 2.0 BiTDI T32 Highline ...</td>\n",
       "      <td>Van Haven Bespoke Transporter T32 TTR+ Exterio...</td>\n",
       "      <td>https://m.atcdn.co.uk/a/media/{resize}/4eeb612...</td>\n",
       "      <td>https://m.atcdn.co.uk/a/media/{resize}/4eeb612...</td>\n",
       "      <td>DT10 2AD</td>\n",
       "      <td>NaN</td>\n",
       "      <td>NaN</td>\n",
       "      <td>23/03/2021</td>\n",
       "    </tr>\n",
       "    <tr>\n",
       "      <th>40887</th>\n",
       "      <td>Koenigsegg</td>\n",
       "      <td>Agera</td>\n",
       "      <td>NaN</td>\n",
       "      <td>Automatic</td>\n",
       "      <td>Petrol</td>\n",
       "      <td>Convertible</td>\n",
       "      <td>NaN</td>\n",
       "      <td>2 doors</td>\n",
       "      <td>NaN</td>\n",
       "      <td>6,900 miles</td>\n",
       "      <td>...</td>\n",
       "      <td>NaN</td>\n",
       "      <td>NaN</td>\n",
       "      <td>Koenigsegg Agera RSN VAT Qualifying 5.0 2dr</td>\n",
       "      <td>Custom Josh Blue With Diamond Dust, £3,195,000</td>\n",
       "      <td>https://m.atcdn.co.uk/a/media/{resize}/fb86ce0...</td>\n",
       "      <td>https://m.atcdn.co.uk/a/media/{resize}/fb86ce0...</td>\n",
       "      <td>DE12 6JD</td>\n",
       "      <td>http://www.tomhartley.com</td>\n",
       "      <td>150.0</td>\n",
       "      <td>23/03/2021</td>\n",
       "    </tr>\n",
       "  </tbody>\n",
       "</table>\n",
       "<p>2 rows × 31 columns</p>\n",
       "</div>"
      ],
      "text/plain": [
       "             make        model      trim transmission fuel_type    body_type  \\\n",
       "27898  Volkswagen  Transporter  Highline    Automatic    Diesel    Combi Van   \n",
       "40887  Koenigsegg        Agera       NaN    Automatic    Petrol  Convertible   \n",
       "\n",
       "                generation    doors    seats      mileage  ... co2Emissions  \\\n",
       "27898  Combi Van (2019 - )  5 doors  5 seats          NaN  ...          NaN   \n",
       "40887                  NaN  2 doors      NaN  6,900 miles  ...          NaN   \n",
       "\n",
       "      mileageDeviation                                        adverttitle  \\\n",
       "27898              NaN  Volkswagen Transporter 2.0 BiTDI T32 Highline ...   \n",
       "40887              NaN        Koenigsegg Agera RSN VAT Qualifying 5.0 2dr   \n",
       "\n",
       "                                                  advert  \\\n",
       "27898  Van Haven Bespoke Transporter T32 TTR+ Exterio...   \n",
       "40887     Custom Josh Blue With Diamond Dust, £3,195,000   \n",
       "\n",
       "                                               mainimage  \\\n",
       "27898  https://m.atcdn.co.uk/a/media/{resize}/4eeb612...   \n",
       "40887  https://m.atcdn.co.uk/a/media/{resize}/fb86ce0...   \n",
       "\n",
       "                                                  images sellerpostcode  \\\n",
       "27898  https://m.atcdn.co.uk/a/media/{resize}/4eeb612...       DT10 2AD   \n",
       "40887  https://m.atcdn.co.uk/a/media/{resize}/fb86ce0...       DE12 6JD   \n",
       "\n",
       "                   sellerwebsite  annual_tax  todaysdate  \n",
       "27898                        NaN         NaN  23/03/2021  \n",
       "40887  http://www.tomhartley.com       150.0  23/03/2021  \n",
       "\n",
       "[2 rows x 31 columns]"
      ]
     },
     "execution_count": 63,
     "metadata": {},
     "output_type": "execute_result"
    }
   ],
   "source": [
    "df.loc[df['price'] > 0.3e7].head()"
   ]
  },
  {
   "cell_type": "code",
   "execution_count": 64,
   "metadata": {},
   "outputs": [
    {
     "data": {
      "text/plain": [
       "<AxesSubplot:ylabel='Count'>"
      ]
     },
     "execution_count": 64,
     "metadata": {},
     "output_type": "execute_result"
    },
    {
     "data": {
      "image/png": "[encoded data removed]",
      "text/plain": [
       "<Figure size 1800x792 with 2 Axes>"
      ]
     },
     "metadata": {
      "needs_background": "light"
     },
     "output_type": "display_data"
    }
   ],
   "source": [
    "## Exclude extreme outliers to check distribution\n",
    "fig, axes = plt.subplots(1, 2, figsize=(25, 11))\n",
    "sns.boxplot(data=np.array(df['price'].loc[df['price'] < 0.35e7]), ax=axes[0]) # Exclude extreme distributions\n",
    "sns.histplot(data=np.array(df['price'].loc[df['price'] <= 100000]), ax=axes[1]) # Limit to £100k (expensive car to be sold on a 'regular' website like autotrader)"
   ]
  },
  {
   "cell_type": "markdown",
   "metadata": {},
   "source": [
    "#### Price Outlier Detection / Removal\n",
    "##### IQR Proximity Rule\n",
    "Data that falles Q1 - 1.5IQR or above Q3 + 1.5 IQR are considered outliers.  \n",
    "A 1.5 multiplier is equivalent to a +- 2.7 SD which, in theory, should cover between 95% - 99% of the data"
   ]
  },
  {
   "cell_type": "code",
   "execution_count": 65,
   "metadata": {},
   "outputs": [
    {
     "name": "stdout",
     "output_type": "stream",
     "text": [
      "Q1: 6995.0\n",
      "Q3: 22491.0\n",
      "IQR: 15496.0\n",
      "lower: -16249.0\n",
      "upper: 45735.0\n"
     ]
    }
   ],
   "source": [
    "q3, q1 = np.percentile(df['price'], [75 ,25])\n",
    "iqr_const = (q3 - q1) * 1.5\n",
    "upper_bound = q3 + iqr_const\n",
    "lower_bound = q1 - iqr_const\n",
    "print(f\"Q1: {q1}\")\n",
    "print(f\"Q3: {q3}\")\n",
    "print(f\"IQR: {q3 - q1}\")\n",
    "print(f\"lower: {lower_bound}\")  # This is negative which is somewhat useless (nobody would list there car for negative price)\n",
    "print(f\"upper: {upper_bound}\")"
   ]
  },
  {
   "cell_type": "code",
   "execution_count": 66,
   "metadata": {},
   "outputs": [
    {
     "data": {
      "text/plain": [
       "Text(0.5, 1.0, 'Data Selected by IQR Prox Rule')"
      ]
     },
     "execution_count": 66,
     "metadata": {},
     "output_type": "execute_result"
    },
    {
     "data": {
      "image/png": "[encoded data removed]",
      "text/plain": [
       "<Figure size 1800x792 with 2 Axes>"
      ]
     },
     "metadata": {
      "needs_background": "light"
     },
     "output_type": "display_data"
    }
   ],
   "source": [
    "# fig, axes = plt.subplots(1, 2, figsize=(25, 11))\n",
    "# sns.histplot(data=np.array(df['price']), ax=axes[0]) # Exclude extreme distributions\n",
    "# sns.histplot(data=np.array(df['price']), ax=axes[1]) # Limit to £100k (expensive car to be sold on a 'regular' website like autotrader)\n",
    "fig, axes = plt.subplots(1, 2, figsize=(25, 11))\n",
    "plt.suptitle(\"IQR Prox Rule\", fontsize=30)\n",
    "# Left PLot\n",
    "g1 = sns.histplot(data=np.array(df.price), ax=axes[0])\n",
    "g1.set_title('IQR Prox Overlaid on Data', fontsize=22)\n",
    "axes[0].axvline(lower_bound, color='red', linewidth=2)\n",
    "axes[0].axvline(upper_bound, color='red', linewidth=2)\n",
    "\n",
    "# Right Plot\n",
    "mask = [False if x < lower_bound or x > upper_bound else True for x in df['price']]\n",
    "df_copy = df.copy()\n",
    "df_copy = df_copy[mask]\n",
    "g2 = sns.histplot(data=np.array(df_copy.price), ax=axes[1])\n",
    "g2.set_title('Data Selected by IQR Prox Rule', fontsize=22)"
   ]
  },
  {
   "cell_type": "markdown",
   "metadata": {},
   "source": [
    "Using IQR proximity leads to removal of 14417 rows (6.4% of data). Whilst it excludes erroneous outliers such as the VW van, it also exlcudes 'actual outliers' that is, the sale of unique / desirable cars that do cost more than a typical autotrader listing\n",
    "\n",
    "##### Explore these Outliers\n",
    "- The median price of these 'outliers' is £64,844 (not uncommon for a car to cost this much) \n",
    "- The mean price is a higher £84,565 (still not that high for 'expensive' cars)\n",
    "\n"
   ]
  },
  {
   "cell_type": "code",
   "execution_count": 67,
   "metadata": {},
   "outputs": [
    {
     "name": "stdout",
     "output_type": "stream",
     "text": [
      "Low:\t\t10540\t: 73.11%\n",
      "Med-low:\t2105\t: 14.60%\n",
      "Med-High:\t1239\t: 8.59%\n",
      "High:\t\t533\t: 3.70%\n"
     ]
    }
   ],
   "source": [
    "outlier_mask = [True if x < lower_bound or x > upper_bound else False for x in df['price']] # Reversal of previous mask\n",
    "df_copy = df.copy()\n",
    "df_copy = df_copy[outlier_mask]\n",
    "\n",
    "## Roughly bin the cars on price.\n",
    "# 40k - 79k. 80k - 119k. 120k - 200k. 200k +  \n",
    "low = 0\n",
    "med_low = 0\n",
    "med_high = 0\n",
    "high = 0\n",
    "for i in range(len(df_copy)):\n",
    "    car_price = df_copy.price.iloc[i]\n",
    "    if 40000 <= car_price <= 79999:\n",
    "        low += 1\n",
    "    elif 80000 <= car_price <= 119999:\n",
    "        med_low += 1\n",
    "    elif 120000 <= car_price <= 199999:\n",
    "        med_high += 1\n",
    "    else:\n",
    "        high += 1\n",
    "df_copy_len = len(df_copy)\n",
    "print(f\"Low:\\t\\t{low}\\t: {low / df_copy_len * 100:.2f}%\")\n",
    "print(f\"Med-low:\\t{med_low}\\t: {med_low / df_copy_len * 100:.2f}%\")\n",
    "print(f\"Med-High:\\t{med_high}\\t: {med_high / df_copy_len * 100:.2f}%\")\n",
    "print(f\"High:\\t\\t{high}\\t: {high / df_copy_len * 100:.2f}%\")"
   ]
  },
  {
   "cell_type": "markdown",
   "metadata": {},
   "source": [
    "Even extending the IQR proximty to include +- 3 SD (99% of data), there are still a significant number of outliers that are not actually that extreme.  \n",
    "There could be a few approaches to dealing with this:\n",
    "1. Have more than one model. Use them as stacked models?\n",
    "    - The first prices 'average' cars which are perhaps 45K and below. Any outliers get passed to a second model\n",
    "    - Second model is for 'luxury' cars that are well above average in price. E.g bugatti do not make any 'cheap' cars\n",
    "2. Have a single model but significant outliers are delegated to a person for pricing\n",
    "    - These extreme luxury cars are significantly less common and only a few extremely expensive cars are listed on autotrader. Downside - not fully automated\n",
    "3. More domain information to create more sophisticated outlier detection\n",
    "4. Use a model specifically to identify true outliers\n",
    "\n",
    "I will explore these outlier techniques in a different notebook"
   ]
  },
  {
   "cell_type": "code",
   "execution_count": 68,
   "metadata": {},
   "outputs": [
    {
     "data": {
      "text/html": [
       "<div>\n",
       "<style scoped>\n",
       "    .dataframe tbody tr th:only-of-type {\n",
       "        vertical-align: middle;\n",
       "    }\n",
       "\n",
       "    .dataframe tbody tr th {\n",
       "        vertical-align: top;\n",
       "    }\n",
       "\n",
       "    .dataframe thead th {\n",
       "        text-align: right;\n",
       "    }\n",
       "</style>\n",
       "<table border=\"1\" class=\"dataframe\">\n",
       "  <thead>\n",
       "    <tr style=\"text-align: right;\">\n",
       "      <th></th>\n",
       "      <th>make</th>\n",
       "      <th>model</th>\n",
       "      <th>trim</th>\n",
       "      <th>transmission</th>\n",
       "      <th>fuel_type</th>\n",
       "      <th>body_type</th>\n",
       "      <th>generation</th>\n",
       "      <th>doors</th>\n",
       "      <th>seats</th>\n",
       "      <th>mileage</th>\n",
       "      <th>...</th>\n",
       "      <th>co2Emissions</th>\n",
       "      <th>mileageDeviation</th>\n",
       "      <th>adverttitle</th>\n",
       "      <th>advert</th>\n",
       "      <th>mainimage</th>\n",
       "      <th>images</th>\n",
       "      <th>sellerpostcode</th>\n",
       "      <th>sellerwebsite</th>\n",
       "      <th>annual_tax</th>\n",
       "      <th>todaysdate</th>\n",
       "    </tr>\n",
       "  </thead>\n",
       "  <tbody>\n",
       "    <tr>\n",
       "      <th>12285</th>\n",
       "      <td>Bugatti</td>\n",
       "      <td>Veyron</td>\n",
       "      <td>NaN</td>\n",
       "      <td>Automatic</td>\n",
       "      <td>Petrol</td>\n",
       "      <td>Coupe</td>\n",
       "      <td>NaN</td>\n",
       "      <td>2 doors</td>\n",
       "      <td>2 seats</td>\n",
       "      <td>9,900 miles</td>\n",
       "      <td>...</td>\n",
       "      <td>NaN</td>\n",
       "      <td>NaN</td>\n",
       "      <td>Bugatti Veyron 8.0 2dr</td>\n",
       "      <td>Only 9,900 miles from new, Excellent Service h...</td>\n",
       "      <td>https://m.atcdn.co.uk/a/media/{resize}/a09f4f1...</td>\n",
       "      <td>https://m.atcdn.co.uk/a/media/{resize}/a09f4f1...</td>\n",
       "      <td>TW9 4HJ</td>\n",
       "      <td>http://ddclassics.com/</td>\n",
       "      <td>NaN</td>\n",
       "      <td>23/03/2021</td>\n",
       "    </tr>\n",
       "    <tr>\n",
       "      <th>12286</th>\n",
       "      <td>Bugatti</td>\n",
       "      <td>Veyron</td>\n",
       "      <td>NaN</td>\n",
       "      <td>Automatic</td>\n",
       "      <td>Petrol</td>\n",
       "      <td>Coupe</td>\n",
       "      <td>NaN</td>\n",
       "      <td>2 doors</td>\n",
       "      <td>2 seats</td>\n",
       "      <td>838 miles</td>\n",
       "      <td>...</td>\n",
       "      <td>596g/km</td>\n",
       "      <td>NaN</td>\n",
       "      <td>Bugatti Veyron 8.0 2dr</td>\n",
       "      <td>Single Tone Black Metallic with Cream Leather ...</td>\n",
       "      <td>https://m.atcdn.co.uk/a/media/{resize}/44a1d0e...</td>\n",
       "      <td>https://m.atcdn.co.uk/a/media/{resize}/44a1d0e...</td>\n",
       "      <td>SM7 1AT</td>\n",
       "      <td>http://www.romansinternational.com</td>\n",
       "      <td>580.0</td>\n",
       "      <td>23/03/2021</td>\n",
       "    </tr>\n",
       "    <tr>\n",
       "      <th>12287</th>\n",
       "      <td>Bugatti</td>\n",
       "      <td>Veyron</td>\n",
       "      <td>NaN</td>\n",
       "      <td>Automatic</td>\n",
       "      <td>Petrol</td>\n",
       "      <td>Convertible</td>\n",
       "      <td>NaN</td>\n",
       "      <td>2 doors</td>\n",
       "      <td>NaN</td>\n",
       "      <td>2,200 miles</td>\n",
       "      <td>...</td>\n",
       "      <td>NaN</td>\n",
       "      <td>NaN</td>\n",
       "      <td>Bugatti Veyron Grand Sport Convertible 8.0 2dr</td>\n",
       "      <td>CLICK AND COLLECT AVAILABLE Finished in White ...</td>\n",
       "      <td>https://m.atcdn.co.uk/a/media/{resize}/a016efd...</td>\n",
       "      <td>https://m.atcdn.co.uk/a/media/{resize}/a016efd...</td>\n",
       "      <td>ME5 9QG</td>\n",
       "      <td>http://www.bigmotoringworld.co.uk/autotraderve...</td>\n",
       "      <td>NaN</td>\n",
       "      <td>23/03/2021</td>\n",
       "    </tr>\n",
       "    <tr>\n",
       "      <th>12288</th>\n",
       "      <td>Bugatti</td>\n",
       "      <td>Veyron</td>\n",
       "      <td>NaN</td>\n",
       "      <td>Automatic</td>\n",
       "      <td>Petrol</td>\n",
       "      <td>Convertible</td>\n",
       "      <td>NaN</td>\n",
       "      <td>2 doors</td>\n",
       "      <td>NaN</td>\n",
       "      <td>2,180 miles</td>\n",
       "      <td>...</td>\n",
       "      <td>NaN</td>\n",
       "      <td>NaN</td>\n",
       "      <td>Bugatti Veyron Grand Sport 8.0 2dr</td>\n",
       "      <td>With extremely low mileage and full H.R. Owen ...</td>\n",
       "      <td>https://m.atcdn.co.uk/a/media/{resize}/55cf397...</td>\n",
       "      <td>https://m.atcdn.co.uk/a/media/{resize}/55cf397...</td>\n",
       "      <td>W1J 6QD</td>\n",
       "      <td>https://www.hrowen.co.uk/bugatti/</td>\n",
       "      <td>NaN</td>\n",
       "      <td>23/03/2021</td>\n",
       "    </tr>\n",
       "    <tr>\n",
       "      <th>12289</th>\n",
       "      <td>Bugatti</td>\n",
       "      <td>Veyron</td>\n",
       "      <td>NaN</td>\n",
       "      <td>Automatic</td>\n",
       "      <td>NaN</td>\n",
       "      <td>NaN</td>\n",
       "      <td>NaN</td>\n",
       "      <td>NaN</td>\n",
       "      <td>NaN</td>\n",
       "      <td>8,017 miles</td>\n",
       "      <td>...</td>\n",
       "      <td>NaN</td>\n",
       "      <td>NaN</td>\n",
       "      <td>Bugatti Veyron Grand Sport</td>\n",
       "      <td>1 of only 58 Veyron Grand Sports ever produced...</td>\n",
       "      <td>https://m.atcdn.co.uk/a/media/{resize}/6b8bfcc...</td>\n",
       "      <td>https://m.atcdn.co.uk/a/media/{resize}/6b8bfcc...</td>\n",
       "      <td>DE12 6BL</td>\n",
       "      <td>http://www.tomhartleyjnr.com/</td>\n",
       "      <td>NaN</td>\n",
       "      <td>23/03/2021</td>\n",
       "    </tr>\n",
       "    <tr>\n",
       "      <th>12290</th>\n",
       "      <td>Bugatti</td>\n",
       "      <td>Veyron</td>\n",
       "      <td>NaN</td>\n",
       "      <td>NaN</td>\n",
       "      <td>NaN</td>\n",
       "      <td>NaN</td>\n",
       "      <td>NaN</td>\n",
       "      <td>NaN</td>\n",
       "      <td>NaN</td>\n",
       "      <td>19,540 miles</td>\n",
       "      <td>...</td>\n",
       "      <td>NaN</td>\n",
       "      <td>NaN</td>\n",
       "      <td>Bugatti Veyron Coupe</td>\n",
       "      <td>GVE London are proud to present this Magnifice...</td>\n",
       "      <td>https://m.atcdn.co.uk/a/media/{resize}/700f439...</td>\n",
       "      <td>https://m.atcdn.co.uk/a/media/{resize}/700f439...</td>\n",
       "      <td>UB8 2DB</td>\n",
       "      <td>http://www.gvelondon.com</td>\n",
       "      <td>NaN</td>\n",
       "      <td>23/03/2021</td>\n",
       "    </tr>\n",
       "    <tr>\n",
       "      <th>12291</th>\n",
       "      <td>Bugatti</td>\n",
       "      <td>Veyron</td>\n",
       "      <td>NaN</td>\n",
       "      <td>NaN</td>\n",
       "      <td>NaN</td>\n",
       "      <td>NaN</td>\n",
       "      <td>NaN</td>\n",
       "      <td>NaN</td>\n",
       "      <td>NaN</td>\n",
       "      <td>11,756 miles</td>\n",
       "      <td>...</td>\n",
       "      <td>NaN</td>\n",
       "      <td>NaN</td>\n",
       "      <td>Bugatti Veyron 8.0</td>\n",
       "      <td>Originally delivered new in August 2007, finis...</td>\n",
       "      <td>https://m.atcdn.co.uk/a/media/{resize}/f15f07f...</td>\n",
       "      <td>https://m.atcdn.co.uk/a/media/{resize}/f15f07f...</td>\n",
       "      <td>PR2 5BW</td>\n",
       "      <td>http://www.amarisupercars.com</td>\n",
       "      <td>NaN</td>\n",
       "      <td>23/03/2021</td>\n",
       "    </tr>\n",
       "    <tr>\n",
       "      <th>27898</th>\n",
       "      <td>Volkswagen</td>\n",
       "      <td>Transporter</td>\n",
       "      <td>Highline</td>\n",
       "      <td>Automatic</td>\n",
       "      <td>Diesel</td>\n",
       "      <td>Combi Van</td>\n",
       "      <td>Combi Van (2019 - )</td>\n",
       "      <td>5 doors</td>\n",
       "      <td>5 seats</td>\n",
       "      <td>NaN</td>\n",
       "      <td>...</td>\n",
       "      <td>NaN</td>\n",
       "      <td>NaN</td>\n",
       "      <td>Volkswagen Transporter 2.0 BiTDI T32 Highline ...</td>\n",
       "      <td>Van Haven Bespoke Transporter T32 TTR+ Exterio...</td>\n",
       "      <td>https://m.atcdn.co.uk/a/media/{resize}/4eeb612...</td>\n",
       "      <td>https://m.atcdn.co.uk/a/media/{resize}/4eeb612...</td>\n",
       "      <td>DT10 2AD</td>\n",
       "      <td>NaN</td>\n",
       "      <td>NaN</td>\n",
       "      <td>23/03/2021</td>\n",
       "    </tr>\n",
       "    <tr>\n",
       "      <th>59003</th>\n",
       "      <td>SKODA</td>\n",
       "      <td>Kodiaq</td>\n",
       "      <td>SE L</td>\n",
       "      <td>Automatic</td>\n",
       "      <td>Petrol</td>\n",
       "      <td>SUV</td>\n",
       "      <td>NaN</td>\n",
       "      <td>5 doors</td>\n",
       "      <td>NaN</td>\n",
       "      <td>NaN</td>\n",
       "      <td>...</td>\n",
       "      <td>NaN</td>\n",
       "      <td>NaN</td>\n",
       "      <td>SKODA SKODA Kodiaq KODIAQ ESTATE 1.5 TSI SE L ...</td>\n",
       "      <td>Race Blue Metallic, £291,481</td>\n",
       "      <td>NaN</td>\n",
       "      <td>NaN</td>\n",
       "      <td>ME20 7UB</td>\n",
       "      <td>NaN</td>\n",
       "      <td>NaN</td>\n",
       "      <td>23/03/2021</td>\n",
       "    </tr>\n",
       "    <tr>\n",
       "      <th>67687</th>\n",
       "      <td>Rolls-Royce</td>\n",
       "      <td>Cullinan</td>\n",
       "      <td>NaN</td>\n",
       "      <td>Automatic</td>\n",
       "      <td>Petrol</td>\n",
       "      <td>SUV</td>\n",
       "      <td>SUV (2018 - )</td>\n",
       "      <td>5 doors</td>\n",
       "      <td>5 seats</td>\n",
       "      <td>6,900 miles</td>\n",
       "      <td>...</td>\n",
       "      <td>344g/km</td>\n",
       "      <td>{'predictedMileage': 9225, 'deviation': 2325, ...</td>\n",
       "      <td>Rolls-Royce Cullinan 5dr Auto 6.8</td>\n",
       "      <td>Rear theatre configuration with 6 disc multi-m...</td>\n",
       "      <td>https://m.atcdn.co.uk/a/media/{resize}/5287451...</td>\n",
       "      <td>https://m.atcdn.co.uk/a/media/{resize}/5287451...</td>\n",
       "      <td>SK9 3FB</td>\n",
       "      <td>http://www.sytner.co.uk/autotradervehiclelocat...</td>\n",
       "      <td>150.0</td>\n",
       "      <td>23/03/2021</td>\n",
       "    </tr>\n",
       "  </tbody>\n",
       "</table>\n",
       "<p>10 rows × 31 columns</p>\n",
       "</div>"
      ],
      "text/plain": [
       "              make        model      trim transmission fuel_type    body_type  \\\n",
       "12285      Bugatti       Veyron       NaN    Automatic    Petrol        Coupe   \n",
       "12286      Bugatti       Veyron       NaN    Automatic    Petrol        Coupe   \n",
       "12287      Bugatti       Veyron       NaN    Automatic    Petrol  Convertible   \n",
       "12288      Bugatti       Veyron       NaN    Automatic    Petrol  Convertible   \n",
       "12289      Bugatti       Veyron       NaN    Automatic       NaN          NaN   \n",
       "12290      Bugatti       Veyron       NaN          NaN       NaN          NaN   \n",
       "12291      Bugatti       Veyron       NaN          NaN       NaN          NaN   \n",
       "27898   Volkswagen  Transporter  Highline    Automatic    Diesel    Combi Van   \n",
       "59003        SKODA       Kodiaq      SE L    Automatic    Petrol          SUV   \n",
       "67687  Rolls-Royce     Cullinan       NaN    Automatic    Petrol          SUV   \n",
       "\n",
       "                generation    doors    seats       mileage  ... co2Emissions  \\\n",
       "12285                  NaN  2 doors  2 seats   9,900 miles  ...          NaN   \n",
       "12286                  NaN  2 doors  2 seats     838 miles  ...      596g/km   \n",
       "12287                  NaN  2 doors      NaN   2,200 miles  ...          NaN   \n",
       "12288                  NaN  2 doors      NaN   2,180 miles  ...          NaN   \n",
       "12289                  NaN      NaN      NaN   8,017 miles  ...          NaN   \n",
       "12290                  NaN      NaN      NaN  19,540 miles  ...          NaN   \n",
       "12291                  NaN      NaN      NaN  11,756 miles  ...          NaN   \n",
       "27898  Combi Van (2019 - )  5 doors  5 seats           NaN  ...          NaN   \n",
       "59003                  NaN  5 doors      NaN           NaN  ...          NaN   \n",
       "67687        SUV (2018 - )  5 doors  5 seats   6,900 miles  ...      344g/km   \n",
       "\n",
       "                                        mileageDeviation  \\\n",
       "12285                                                NaN   \n",
       "12286                                                NaN   \n",
       "12287                                                NaN   \n",
       "12288                                                NaN   \n",
       "12289                                                NaN   \n",
       "12290                                                NaN   \n",
       "12291                                                NaN   \n",
       "27898                                                NaN   \n",
       "59003                                                NaN   \n",
       "67687  {'predictedMileage': 9225, 'deviation': 2325, ...   \n",
       "\n",
       "                                             adverttitle  \\\n",
       "12285                             Bugatti Veyron 8.0 2dr   \n",
       "12286                             Bugatti Veyron 8.0 2dr   \n",
       "12287     Bugatti Veyron Grand Sport Convertible 8.0 2dr   \n",
       "12288                 Bugatti Veyron Grand Sport 8.0 2dr   \n",
       "12289                         Bugatti Veyron Grand Sport   \n",
       "12290                               Bugatti Veyron Coupe   \n",
       "12291                                 Bugatti Veyron 8.0   \n",
       "27898  Volkswagen Transporter 2.0 BiTDI T32 Highline ...   \n",
       "59003  SKODA SKODA Kodiaq KODIAQ ESTATE 1.5 TSI SE L ...   \n",
       "67687                  Rolls-Royce Cullinan 5dr Auto 6.8   \n",
       "\n",
       "                                                  advert  \\\n",
       "12285  Only 9,900 miles from new, Excellent Service h...   \n",
       "12286  Single Tone Black Metallic with Cream Leather ...   \n",
       "12287  CLICK AND COLLECT AVAILABLE Finished in White ...   \n",
       "12288  With extremely low mileage and full H.R. Owen ...   \n",
       "12289  1 of only 58 Veyron Grand Sports ever produced...   \n",
       "12290  GVE London are proud to present this Magnifice...   \n",
       "12291  Originally delivered new in August 2007, finis...   \n",
       "27898  Van Haven Bespoke Transporter T32 TTR+ Exterio...   \n",
       "59003                       Race Blue Metallic, £291,481   \n",
       "67687  Rear theatre configuration with 6 disc multi-m...   \n",
       "\n",
       "                                               mainimage  \\\n",
       "12285  https://m.atcdn.co.uk/a/media/{resize}/a09f4f1...   \n",
       "12286  https://m.atcdn.co.uk/a/media/{resize}/44a1d0e...   \n",
       "12287  https://m.atcdn.co.uk/a/media/{resize}/a016efd...   \n",
       "12288  https://m.atcdn.co.uk/a/media/{resize}/55cf397...   \n",
       "12289  https://m.atcdn.co.uk/a/media/{resize}/6b8bfcc...   \n",
       "12290  https://m.atcdn.co.uk/a/media/{resize}/700f439...   \n",
       "12291  https://m.atcdn.co.uk/a/media/{resize}/f15f07f...   \n",
       "27898  https://m.atcdn.co.uk/a/media/{resize}/4eeb612...   \n",
       "59003                                                NaN   \n",
       "67687  https://m.atcdn.co.uk/a/media/{resize}/5287451...   \n",
       "\n",
       "                                                  images sellerpostcode  \\\n",
       "12285  https://m.atcdn.co.uk/a/media/{resize}/a09f4f1...        TW9 4HJ   \n",
       "12286  https://m.atcdn.co.uk/a/media/{resize}/44a1d0e...        SM7 1AT   \n",
       "12287  https://m.atcdn.co.uk/a/media/{resize}/a016efd...        ME5 9QG   \n",
       "12288  https://m.atcdn.co.uk/a/media/{resize}/55cf397...        W1J 6QD   \n",
       "12289  https://m.atcdn.co.uk/a/media/{resize}/6b8bfcc...       DE12 6BL   \n",
       "12290  https://m.atcdn.co.uk/a/media/{resize}/700f439...        UB8 2DB   \n",
       "12291  https://m.atcdn.co.uk/a/media/{resize}/f15f07f...        PR2 5BW   \n",
       "27898  https://m.atcdn.co.uk/a/media/{resize}/4eeb612...       DT10 2AD   \n",
       "59003                                                NaN       ME20 7UB   \n",
       "67687  https://m.atcdn.co.uk/a/media/{resize}/5287451...        SK9 3FB   \n",
       "\n",
       "                                           sellerwebsite  annual_tax  \\\n",
       "12285                             http://ddclassics.com/         NaN   \n",
       "12286                 http://www.romansinternational.com       580.0   \n",
       "12287  http://www.bigmotoringworld.co.uk/autotraderve...         NaN   \n",
       "12288                  https://www.hrowen.co.uk/bugatti/         NaN   \n",
       "12289                      http://www.tomhartleyjnr.com/         NaN   \n",
       "12290                           http://www.gvelondon.com         NaN   \n",
       "12291                      http://www.amarisupercars.com         NaN   \n",
       "27898                                                NaN         NaN   \n",
       "59003                                                NaN         NaN   \n",
       "67687  http://www.sytner.co.uk/autotradervehiclelocat...       150.0   \n",
       "\n",
       "       todaysdate  \n",
       "12285  23/03/2021  \n",
       "12286  23/03/2021  \n",
       "12287  23/03/2021  \n",
       "12288  23/03/2021  \n",
       "12289  23/03/2021  \n",
       "12290  23/03/2021  \n",
       "12291  23/03/2021  \n",
       "27898  23/03/2021  \n",
       "59003  23/03/2021  \n",
       "67687  23/03/2021  \n",
       "\n",
       "[10 rows x 31 columns]"
      ]
     },
     "execution_count": 68,
     "metadata": {},
     "output_type": "execute_result"
    }
   ],
   "source": [
    "expensive = df_copy.loc[df_copy['price'] > 199999]\n",
    "expensive.head(10)"
   ]
  },
  {
   "cell_type": "markdown",
   "metadata": {},
   "source": [
    "##### Car Makes\n",
    "- Will likely need to group rare makes. This will also handle makes that are outside this dataset coming into the model"
   ]
  },
  {
   "cell_type": "code",
   "execution_count": 69,
   "metadata": {},
   "outputs": [
    {
     "name": "stdout",
     "output_type": "stream",
     "text": [
      "There are 103 unique care makes\n"
     ]
    },
    {
     "data": {
      "text/plain": [
       "<AxesSubplot:>"
      ]
     },
     "execution_count": 69,
     "metadata": {},
     "output_type": "execute_result"
    },
    {
     "data": {
      "image/png": "[encoded data removed]",
      "text/plain": [
       "<Figure size 1440x1008 with 1 Axes>"
      ]
     },
     "metadata": {
      "needs_background": "light"
     },
     "output_type": "display_data"
    }
   ],
   "source": [
    "print(f\"There are {df.make.nunique()} unique care makes\")\n",
    "plt.figure(figsize=(20, 14))\n",
    "df.make.value_counts().sort_values().plot(kind='barh')"
   ]
  },
  {
   "cell_type": "code",
   "execution_count": 70,
   "metadata": {},
   "outputs": [],
   "source": [
    "def find_rare(col, threshold=0.01):\n",
    "    vcs = col.value_counts().astype(int) # This is behaving weirdly\n",
    "    n = len(col)\n",
    "    rare_labels = []\n",
    "    for k in vcs.keys():\n",
    "        vcs[k] /= n\n",
    "        if vcs[k] <= threshold:\n",
    "            rare_labels.append(k)\n",
    "    return vcs, rare_labels\n",
    "\n",
    "def clean_str(x):\n",
    "    x = str(x).lower()\n",
    "    x = re.sub(r'\\W', '', x) # Symbols + whitespace\n",
    "    return x\n",
    "\n",
    "make_proportions, rare_labels = find_rare(df.make)\n",
    "# df.isnull().sum()\n",
    "df['make'] = ['rare' if x in rare_labels else clean_str(x) for x in df['make']]"
   ]
  },
  {
   "cell_type": "code",
   "execution_count": 71,
   "metadata": {},
   "outputs": [
    {
     "data": {
      "text/plain": [
       "<AxesSubplot:>"
      ]
     },
     "execution_count": 71,
     "metadata": {},
     "output_type": "execute_result"
    },
    {
     "data": {
      "image/png": "[encoded data removed]",
      "text/plain": [
       "<Figure size 720x504 with 1 Axes>"
      ]
     },
     "metadata": {
      "needs_background": "light"
     },
     "output_type": "display_data"
    }
   ],
   "source": [
    "df.make.value_counts().sort_values().plot(kind='barh')"
   ]
  },
  {
   "cell_type": "code",
   "execution_count": 72,
   "metadata": {},
   "outputs": [],
   "source": [
    "def get_ordinal(x):\n",
    "    med_dict = df.groupby(x)['price'].median()\n",
    "    med_dict_sorted = {k: v for k, v in sorted(med_dict.items(), key=lambda item: item[1])}\n",
    "    label = 0\n",
    "    for k, v in med_dict_sorted.items():\n",
    "        med_dict_sorted[k] = label\n",
    "        label += 1\n",
    "    return med_dict_sorted\n",
    "mapping = get_ordinal('make')\n",
    "df['make'] = df['make'].map(mapping)"
   ]
  },
  {
   "cell_type": "markdown",
   "metadata": {},
   "source": [
    "### Model\n",
    "If we use the `find_rare()` function, all models will be labeled as rare because even the most popular (fiat 500) is only in 1097 rows which is less than 1% of the total length and thus will be categorised as rare  \n",
    "Whilst model could be used to provide more precise predictions about price (e.g. a porsche 911 should be more than a porsche boxter), the extremely high cardinality will provide issues. Maybe could be used to squeeze some extra performance but potentially requires extensive domain knowledge."
   ]
  },
  {
   "cell_type": "code",
   "execution_count": 73,
   "metadata": {},
   "outputs": [
    {
     "name": "stdout",
     "output_type": "stream",
     "text": [
      "There are 1119 unique care models\n",
      "500                  1097\n",
      "Outlander            1024\n",
      "Focus                1009\n",
      "3 Series             1007\n",
      "Jazz                 1006\n",
      "                     ... \n",
      "Lafesta                 1\n",
      "Kallista                1\n",
      "Caravan Limousine       1\n",
      "Kelisa                  1\n",
      "Alpina B6               1\n",
      "Name: model, Length: 1119, dtype: int64\n"
     ]
    }
   ],
   "source": [
    "print(f\"There are {df.model.nunique()} unique care models\")  # High cardinality\n",
    "print(df.model.value_counts())\n",
    "\n",
    "\n",
    "# model_proportions, model_rare_labels = find_rare(df.model)\n",
    "# model_proportions\n",
    "# df['model'] = ['rare' if x in model_rare_labels else x for x in df['model']]\n",
    "# df.model.value_counts().sort_values().plot(kind='barh')\n",
    "\n",
    "df.drop(columns=['model'], inplace=True)"
   ]
  },
  {
   "cell_type": "markdown",
   "metadata": {},
   "source": [
    "### Trim\n",
    "I think Trim will be a column to drop. It might make a difference, but the difference will be small with regards to the overall price of the car. (i.e if a car costs 30k, a trim pack might add a few % on top but likely only if new)"
   ]
  },
  {
   "cell_type": "code",
   "execution_count": 74,
   "metadata": {},
   "outputs": [],
   "source": [
    "df.drop(columns=['trim'], inplace=True)"
   ]
  },
  {
   "cell_type": "markdown",
   "metadata": {},
   "source": [
    "### Transmission\n",
    "Almost a perfect 50/50 split between manual and automatic. Could use binary encoding\n",
    "\n",
    "Transmission appears to be a very useful feature for predicting price - even a naive conditon like \n",
    "\n",
    "`if auto: price * 1.5`"
   ]
  },
  {
   "cell_type": "code",
   "execution_count": 75,
   "metadata": {},
   "outputs": [
    {
     "name": "stdout",
     "output_type": "stream",
     "text": [
      "Manual = 50.62% of the data\n",
      "Automatic = 49.23% of the data\n",
      "328 rows are null\n"
     ]
    }
   ],
   "source": [
    "transmission_dict = dict(df.transmission.value_counts())\n",
    "for k, v in transmission_dict.items():\n",
    "    transmission_dict[k] /= len(df)\n",
    "print(f\"Manual = {transmission_dict['Manual'] * 100:.2f}% of the data\\nAutomatic = {transmission_dict['Automatic'] * 100:.2f}% of the data\")\n",
    "\n",
    "def nulls(col_name):\n",
    "    return df[col_name].isnull().sum()\n",
    "print(f\"{nulls('transmission')} rows are null\")"
   ]
  },
  {
   "cell_type": "code",
   "execution_count": 76,
   "metadata": {},
   "outputs": [
    {
     "name": "stdout",
     "output_type": "stream",
     "text": [
      "\n",
      "Both the mean and median for automatic vehicles are higher than for manual vehicles (almost double median, almost triple mean)\n",
      "\n",
      "Manual Mean\t£10457\t\tManual Median\t\t£8526\n",
      "% Increase:\t+159.77%\t% Increase:\t\t+134.52%\n",
      "Automatic Mean\t£27164\t\tAutomatic Median\t£19995\n"
     ]
    }
   ],
   "source": [
    "# Mean price for different transmission types\n",
    "def _extract_transmission_values(d):\n",
    "    auto = d['Automatic']\n",
    "    man = d['Manual']\n",
    "    return int(auto), int(man)\n",
    "\n",
    "def pct_diff(new, old):\n",
    "    diff = new - old\n",
    "    return round((diff / old) * 100, 2)\n",
    "\n",
    "def get_descriptive_stats(groupby_col, target='price'): \n",
    "    auto_mean, manual_mean = _extract_transmission_values(df.groupby(groupby_col)[target].mean())\n",
    "    auto_median, manual_median = _extract_transmission_values(df.groupby(groupby_col)[target].median())\n",
    "\n",
    "    print(f\"Manual Mean\\t£{manual_mean}\\t\\tManual Median\\t\\t£{manual_median}\")\n",
    "    print(f\"% Increase:\\t+{ pct_diff(auto_mean, manual_mean) }%\\t% Increase:\\t\\t+{ pct_diff(auto_median, manual_median) }%\")\n",
    "    print(f\"Automatic Mean\\t£{auto_mean}\\t\\tAutomatic Median\\t£{auto_median}\")\n",
    "\n",
    "print(\"\"\"\n",
    "Both the mean and median for automatic vehicles are higher than for manual vehicles (almost double median, almost triple mean)\n",
    "\"\"\")\n",
    "get_descriptive_stats('transmission')\n",
    "\n",
    "## Look into year and transmission"
   ]
  },
  {
   "cell_type": "code",
   "execution_count": 77,
   "metadata": {},
   "outputs": [],
   "source": [
    "df['transmission'] = [0 if x == 'Automatic' else 1 for x in df.transmission]"
   ]
  },
  {
   "cell_type": "markdown",
   "metadata": {},
   "source": [
    "### Fuel Type\n",
    "There are 8 unique 'fuel types'\n",
    "- Petrol\n",
    "- Diesel                               \n",
    "- Hybrid – Petrol/Electric\n",
    "- Electric\n",
    "- Hybrid – Petrol/Electric Plug-in\n",
    "- Hybrid – Diesel/Electric\n",
    "- Bi Fuel\n",
    "- Hybrid – Diesel/Electric Plug-in\n",
    "\n",
    "Some of these electric cars might be groupable.  \n",
    "Grouping just by 'rarity' not ideal because Hybrid – Diesel/Electric appears to be, on average, more expensive than other hybrid vehicles\n",
    "- Might explicitly keep Hybrid – Diesel/Electric as a group\n",
    "- I think this in some ordinal encoding would work based on the median price of each fuel type"
   ]
  },
  {
   "cell_type": "code",
   "execution_count": 78,
   "metadata": {},
   "outputs": [
    {
     "name": "stdout",
     "output_type": "stream",
     "text": [
      "278 rows of the fuel type column are null\n",
      "Petrol                              111417\n",
      "Diesel                               93240\n",
      "Hybrid – Petrol/Electric             10758\n",
      "Electric                              5726\n",
      "Hybrid – Petrol/Electric Plug-in      3315\n",
      "Hybrid – Diesel/Electric               587\n",
      "Bi Fuel                                101\n",
      "Hybrid – Diesel/Electric Plug-in        61\n",
      "Name: fuel_type, dtype: int64\n",
      "\n",
      "\n",
      "Median car Price per Fuel Type\n",
      "Petrol:\t10650.0\n",
      "Diesel:\t12999.0\n",
      "Bi Fuel:\t14000.0\n",
      "Hybrid – Petrol/Electric Plug-in:\t29190.0\n",
      "nan:\tnan\n",
      "Electric:\t30500.0\n",
      "Hybrid – Diesel/Electric:\t42770.0\n",
      "Hybrid – Petrol/Electric:\t19459.5\n",
      "Hybrid – Diesel/Electric Plug-in:\t29990.0\n"
     ]
    }
   ],
   "source": [
    "print(f\"{nulls('fuel_type')} rows of the fuel type column are null\")\n",
    "print(df.fuel_type.value_counts(), end='\\n\\n\\nMedian car Price per Fuel Type\\n')\n",
    "\n",
    "fuel_types = list(df.fuel_type.unique())\n",
    "for t in fuel_types:\n",
    "    mean_price_for_fuel_type = df['price'].loc[df['fuel_type'] == t].median()\n",
    "    print(f\"{t}:\\t{mean_price_for_fuel_type}\")"
   ]
  },
  {
   "cell_type": "code",
   "execution_count": 79,
   "metadata": {},
   "outputs": [
    {
     "name": "stdout",
     "output_type": "stream",
     "text": [
      "petrol                  111417\n",
      "diesel                   93240\n",
      "hybridpetrolelectric     14073\n",
      "electric                  5726\n",
      "hybriddieselelectric       648\n",
      "other                      101\n",
      "Name: fuel_type, dtype: int64\n"
     ]
    }
   ],
   "source": [
    "df.dropna(subset=['fuel_type'], inplace=True) # Drop NA fuel_type\n",
    "fuel_proportions, fuel_rare_labels = find_rare(df.fuel_type)\n",
    "# print(fuel_rare_labels)\n",
    "\n",
    "to_exclude = [\"Hybrid – Diesel/Electric\", \"Hybrid – Diesel/Electric Plug-in\"]\n",
    "for exclude in to_exclude:\n",
    "    fuel_rare_labels.remove(exclude)\n",
    "\n",
    "\n",
    "def remove_plugin_from_fuel(x):\n",
    "    x = re.sub(r'plugin', '', x)\n",
    "    return x\n",
    "        \n",
    "df['fuel_type'] = ['other' if x in fuel_rare_labels else remove_plugin_from_fuel(clean_str(x)) for x in df.fuel_type]\n",
    "print(df.fuel_type.value_counts())"
   ]
  },
  {
   "cell_type": "code",
   "execution_count": 80,
   "metadata": {},
   "outputs": [],
   "source": [
    "## Order by median and encode 0 -> n\n",
    "fuel_type_dict = dict(df.groupby('fuel_type')['price'].median())\n",
    "fuel_type_dict_ordered = {k: v for k, v in sorted(fuel_type_dict.items(), key=lambda item: item[1])}\n",
    "group_num = 1\n",
    "for k, v in fuel_type_dict_ordered.items():\n",
    "    fuel_type_dict_ordered[k] = group_num\n",
    "    group_num += 1\n",
    "\n",
    "df['fuel_type'] = df['fuel_type'].map(fuel_type_dict_ordered)"
   ]
  },
  {
   "cell_type": "markdown",
   "metadata": {},
   "source": [
    "### Body Type\n",
    "Doesn't appear to be any real relationship between body type and price. People don't often buy a car with a specific 'body type' in mind"
   ]
  },
  {
   "cell_type": "code",
   "execution_count": 81,
   "metadata": {},
   "outputs": [],
   "source": [
    "df.drop(columns=['body_type'], inplace=True)"
   ]
  },
  {
   "cell_type": "markdown",
   "metadata": {},
   "source": [
    "### Generation\n",
    "Includes body style and year made. Will drop"
   ]
  },
  {
   "cell_type": "code",
   "execution_count": 82,
   "metadata": {},
   "outputs": [],
   "source": [
    "df.drop(columns=['generation'], inplace=True)"
   ]
  },
  {
   "cell_type": "markdown",
   "metadata": {},
   "source": [
    "### Doors + Seats\n",
    "Need to do some cleaning. 4 doors -> 4. Same for seats\n",
    "\n",
    "There is a moderate correlation between seats and doors. Could impute using this relationship - perhaps using the mode (more difficult than imagined due to edge cases in seat number)"
   ]
  },
  {
   "cell_type": "code",
   "execution_count": 83,
   "metadata": {},
   "outputs": [
    {
     "data": {
      "text/plain": [
       "doors\n",
       "2.0    16750.0\n",
       "3.0     5495.0\n",
       "4.0    16490.0\n",
       "5.0    12750.0\n",
       "6.0    15250.0\n",
       "Name: price, dtype: float64"
      ]
     },
     "execution_count": 83,
     "metadata": {},
     "output_type": "execute_result"
    }
   ],
   "source": [
    "def clean_doors(x):\n",
    "    if isinstance(x, str):\n",
    "        pattern = re.compile(r'^[0-9]*')\n",
    "        x = pattern.findall(x)[0]\n",
    "        return int(x)\n",
    "    return x\n",
    "df_local_copy = df.copy()\n",
    "df_local_copy['doors'] = [clean_doors(x) for x in df_local_copy['doors']]\n",
    "\n",
    "df_local_copy.groupby('doors')['price'].median()"
   ]
  },
  {
   "cell_type": "code",
   "execution_count": 84,
   "metadata": {},
   "outputs": [],
   "source": [
    "## Exploring correlation between number of doors and number of seats\n",
    "# def calc_corr_seats_doors(df):\n",
    "#     df_copy = df.copy()\n",
    "#     df_copy.dropna(subset=['doors'], inplace=True)\n",
    "#     df_copy.dropna(subset=['seats'], inplace=True)\n",
    "#     df_copy['seats'] = [clean_doors(x) for x in df_copy['seats']]\n",
    "#     df_copy['doors'] = [clean_doors(x) for x in df_copy['doors']]\n",
    "#     return df_copy['doors'].corr(df_copy['seats'])\n",
    "\n",
    "# print(f\"Correlation between no. seats and no. doors {calc_corr_seats_doors(df):.2f}\")\n",
    "\n",
    "# df['doors'] = [clean_doors(x) for x in df['doors']]\n",
    "# df['seats'] = [clean_doors(x) for x in df['seats']]\n",
    "\n",
    "# unique_door_numbers = [x for x in df.doors.unique() if isinstance(x, int)]\n",
    "# unique_seat_numbers = [x for x in df.seats.unique() if isinstance(x, int)]\n",
    "\n",
    "# # Impute seat number\n",
    "# door_seat_dict = dict()\n",
    "# seat_door_dict = dict()\n",
    "# for d_number in unique_door_numbers:\n",
    "#     seat_data_subset = df['seats'].loc[df['doors'] == d_number]\n",
    "#     seat_number_mode = list(seat_data_subset.mode())[0]\n",
    "#     door_seat_dict[d_number] = seat_number_mode\n",
    "\n",
    "\n",
    "# # for s_number in unique_seat_numbers:\n",
    "# #     door_data_subset = df['doors'].loc[df['seats'] == s_number]\n",
    "# #     door_data_subset.head()\n",
    "#     # door_number_mode = list(door_data_subset.mode())[0]\n",
    "#     # seat_door_dict[s_number] = door_number_mode\n",
    "# for s in unique_seat_numbers:\n",
    "#     door_data_subset = df['doors'].loc[df['seats'] == s]\n",
    "#     print(f\"seat_num: {s}\\t\", list(door_data_subset.mode()))"
   ]
  },
  {
   "cell_type": "markdown",
   "metadata": {},
   "source": [
    "### Doors Categorical\n",
    "After an exploration into transforming doors + seats into numerical, found it was easier to keep this as a category as the cardinality is relatively low and imputation is difficult  \n",
    "Now will categorise as is but include Nulls as 'unknown' and rare cases broadly as '>5 doors'"
   ]
  },
  {
   "cell_type": "code",
   "execution_count": 85,
   "metadata": {},
   "outputs": [
    {
     "data": {
      "text/plain": [
       "5 doors     161339\n",
       "4 doors      23362\n",
       "2 doors      20453\n",
       "3 doors      17301\n",
       "unknown       1566\n",
       ">5 doors      1184\n",
       "Name: doors, dtype: int64"
      ]
     },
     "execution_count": 85,
     "metadata": {},
     "output_type": "execute_result"
    }
   ],
   "source": [
    "import category_encoders as ce\n",
    "\n",
    "# Keep doors as categories and transform na -> unknown\n",
    "df['doors'].fillna('unknown', inplace=True)\n",
    "door_proportions, door_rare_labels = find_rare(df.doors)\n",
    "df['doors'] = ['>5 doors' if x in door_rare_labels and x != 'unknown' else x for x in df.doors]\n",
    "df.doors.value_counts()"
   ]
  },
  {
   "cell_type": "code",
   "execution_count": 86,
   "metadata": {},
   "outputs": [],
   "source": [
    "def to_binary(df, x):\n",
    "    local_copy = df.copy()\n",
    "    encoder = ce.BinaryEncoder(cols=[x])\n",
    "    dfbin = encoder.fit_transform(local_copy[x])\n",
    "    local_copy = pd.concat([df, dfbin], axis=1)\n",
    "    local_copy.drop(columns=[x], inplace=True)\n",
    "    return local_copy\n",
    "df = to_binary(df, 'doors')"
   ]
  },
  {
   "cell_type": "code",
   "execution_count": 87,
   "metadata": {},
   "outputs": [
    {
     "data": {
      "text/html": [
       "<div>\n",
       "<style scoped>\n",
       "    .dataframe tbody tr th:only-of-type {\n",
       "        vertical-align: middle;\n",
       "    }\n",
       "\n",
       "    .dataframe tbody tr th {\n",
       "        vertical-align: top;\n",
       "    }\n",
       "\n",
       "    .dataframe thead th {\n",
       "        text-align: right;\n",
       "    }\n",
       "</style>\n",
       "<table border=\"1\" class=\"dataframe\">\n",
       "  <thead>\n",
       "    <tr style=\"text-align: right;\">\n",
       "      <th></th>\n",
       "      <th>make</th>\n",
       "      <th>transmission</th>\n",
       "      <th>fuel_type</th>\n",
       "      <th>seats</th>\n",
       "      <th>mileage</th>\n",
       "      <th>emission_scheme</th>\n",
       "      <th>owners</th>\n",
       "      <th>manufactured_year</th>\n",
       "      <th>engine_size</th>\n",
       "      <th>service_history</th>\n",
       "      <th>...</th>\n",
       "      <th>advert</th>\n",
       "      <th>mainimage</th>\n",
       "      <th>images</th>\n",
       "      <th>sellerpostcode</th>\n",
       "      <th>sellerwebsite</th>\n",
       "      <th>annual_tax</th>\n",
       "      <th>todaysdate</th>\n",
       "      <th>doors_0</th>\n",
       "      <th>doors_1</th>\n",
       "      <th>doors_2</th>\n",
       "    </tr>\n",
       "  </thead>\n",
       "  <tbody>\n",
       "    <tr>\n",
       "      <th>0</th>\n",
       "      <td>20</td>\n",
       "      <td>0</td>\n",
       "      <td>1</td>\n",
       "      <td>5 seats</td>\n",
       "      <td>19,000 miles</td>\n",
       "      <td>NaN</td>\n",
       "      <td>NaN</td>\n",
       "      <td>1989 (G reg)</td>\n",
       "      <td>5.3L</td>\n",
       "      <td>NaN</td>\n",
       "      <td>...</td>\n",
       "      <td>A rare and stunning example of this modern cla...</td>\n",
       "      <td>https://m.atcdn.co.uk/a/media/{resize}/70ce1ad...</td>\n",
       "      <td>https://m.atcdn.co.uk/a/media/{resize}/70ce1ad...</td>\n",
       "      <td>B93 0EF</td>\n",
       "      <td>http://www.concoursmotorco.com/</td>\n",
       "      <td>NaN</td>\n",
       "      <td>23/03/2021</td>\n",
       "      <td>0</td>\n",
       "      <td>0</td>\n",
       "      <td>1</td>\n",
       "    </tr>\n",
       "    <tr>\n",
       "      <th>1</th>\n",
       "      <td>20</td>\n",
       "      <td>1</td>\n",
       "      <td>1</td>\n",
       "      <td>4 seats</td>\n",
       "      <td>17,464 miles</td>\n",
       "      <td>ULEZ</td>\n",
       "      <td>NaN</td>\n",
       "      <td>2018 (18 reg)</td>\n",
       "      <td>1.4L</td>\n",
       "      <td>NaN</td>\n",
       "      <td>...</td>\n",
       "      <td>CLICK AND COLLECT AVAILABLE, 180 Bhp VERY Limi...</td>\n",
       "      <td>https://m.atcdn.co.uk/a/media/{resize}/a29e99d...</td>\n",
       "      <td>https://m.atcdn.co.uk/a/media/{resize}/a29e99d...</td>\n",
       "      <td>SL6 4LB</td>\n",
       "      <td>http://www.alfaaid.co.uk</td>\n",
       "      <td>150.0</td>\n",
       "      <td>23/03/2021</td>\n",
       "      <td>0</td>\n",
       "      <td>1</td>\n",
       "      <td>0</td>\n",
       "    </tr>\n",
       "    <tr>\n",
       "      <th>2</th>\n",
       "      <td>20</td>\n",
       "      <td>1</td>\n",
       "      <td>1</td>\n",
       "      <td>2 seats</td>\n",
       "      <td>8,500 miles</td>\n",
       "      <td>ULEZ</td>\n",
       "      <td>3 owners</td>\n",
       "      <td>2016 (66 reg)</td>\n",
       "      <td>1.4L</td>\n",
       "      <td>NaN</td>\n",
       "      <td>...</td>\n",
       "      <td>Our Abarth 695 Biposto Record is an exceptiona...</td>\n",
       "      <td>https://m.atcdn.co.uk/a/media/{resize}/1499516...</td>\n",
       "      <td>https://m.atcdn.co.uk/a/media/{resize}/1499516...</td>\n",
       "      <td>SY13 1LR</td>\n",
       "      <td>http://pocketrocketsales.co.uk/</td>\n",
       "      <td>165.0</td>\n",
       "      <td>23/03/2021</td>\n",
       "      <td>0</td>\n",
       "      <td>1</td>\n",
       "      <td>0</td>\n",
       "    </tr>\n",
       "    <tr>\n",
       "      <th>3</th>\n",
       "      <td>20</td>\n",
       "      <td>0</td>\n",
       "      <td>1</td>\n",
       "      <td>4 seats</td>\n",
       "      <td>17,000 miles</td>\n",
       "      <td>ULEZ</td>\n",
       "      <td>NaN</td>\n",
       "      <td>2016 (65 reg)</td>\n",
       "      <td>1.4L</td>\n",
       "      <td>Full service history</td>\n",
       "      <td>...</td>\n",
       "      <td>Details to follow , 12 months MOT, Full servic...</td>\n",
       "      <td>https://m.atcdn.co.uk/a/media/{resize}/efe7d1e...</td>\n",
       "      <td>https://m.atcdn.co.uk/a/media/{resize}/efe7d1e...</td>\n",
       "      <td>SL6 9SN</td>\n",
       "      <td>https://dmsgateway.autotrader.co.uk/api/advert...</td>\n",
       "      <td>NaN</td>\n",
       "      <td>23/03/2021</td>\n",
       "      <td>0</td>\n",
       "      <td>1</td>\n",
       "      <td>1</td>\n",
       "    </tr>\n",
       "    <tr>\n",
       "      <th>4</th>\n",
       "      <td>20</td>\n",
       "      <td>1</td>\n",
       "      <td>1</td>\n",
       "      <td>4 seats</td>\n",
       "      <td>12,900 miles</td>\n",
       "      <td>ULEZ</td>\n",
       "      <td>2 owners</td>\n",
       "      <td>2016 (66 reg)</td>\n",
       "      <td>1.4L</td>\n",
       "      <td>Full service history</td>\n",
       "      <td>...</td>\n",
       "      <td>Awesome little rare beauty! This luxury Abarth...</td>\n",
       "      <td>https://m.atcdn.co.uk/a/media/{resize}/22f4170...</td>\n",
       "      <td>https://m.atcdn.co.uk/a/media/{resize}/22f4170...</td>\n",
       "      <td>DE1 3PA</td>\n",
       "      <td>https://dmsgateway.autotrader.co.uk/api/advert...</td>\n",
       "      <td>150.0</td>\n",
       "      <td>23/03/2021</td>\n",
       "      <td>0</td>\n",
       "      <td>1</td>\n",
       "      <td>1</td>\n",
       "    </tr>\n",
       "  </tbody>\n",
       "</table>\n",
       "<p>5 rows × 29 columns</p>\n",
       "</div>"
      ],
      "text/plain": [
       "   make  transmission  fuel_type    seats       mileage emission_scheme  \\\n",
       "0    20             0          1  5 seats  19,000 miles             NaN   \n",
       "1    20             1          1  4 seats  17,464 miles            ULEZ   \n",
       "2    20             1          1  2 seats   8,500 miles            ULEZ   \n",
       "3    20             0          1  4 seats  17,000 miles            ULEZ   \n",
       "4    20             1          1  4 seats  12,900 miles            ULEZ   \n",
       "\n",
       "     owners manufactured_year engine_size       service_history  ...  \\\n",
       "0       NaN      1989 (G reg)        5.3L                   NaN  ...   \n",
       "1       NaN     2018 (18 reg)        1.4L                   NaN  ...   \n",
       "2  3 owners     2016 (66 reg)        1.4L                   NaN  ...   \n",
       "3       NaN     2016 (65 reg)        1.4L  Full service history  ...   \n",
       "4  2 owners     2016 (66 reg)        1.4L  Full service history  ...   \n",
       "\n",
       "                                              advert  \\\n",
       "0  A rare and stunning example of this modern cla...   \n",
       "1  CLICK AND COLLECT AVAILABLE, 180 Bhp VERY Limi...   \n",
       "2  Our Abarth 695 Biposto Record is an exceptiona...   \n",
       "3  Details to follow , 12 months MOT, Full servic...   \n",
       "4  Awesome little rare beauty! This luxury Abarth...   \n",
       "\n",
       "                                           mainimage  \\\n",
       "0  https://m.atcdn.co.uk/a/media/{resize}/70ce1ad...   \n",
       "1  https://m.atcdn.co.uk/a/media/{resize}/a29e99d...   \n",
       "2  https://m.atcdn.co.uk/a/media/{resize}/1499516...   \n",
       "3  https://m.atcdn.co.uk/a/media/{resize}/efe7d1e...   \n",
       "4  https://m.atcdn.co.uk/a/media/{resize}/22f4170...   \n",
       "\n",
       "                                              images  sellerpostcode  \\\n",
       "0  https://m.atcdn.co.uk/a/media/{resize}/70ce1ad...         B93 0EF   \n",
       "1  https://m.atcdn.co.uk/a/media/{resize}/a29e99d...         SL6 4LB   \n",
       "2  https://m.atcdn.co.uk/a/media/{resize}/1499516...        SY13 1LR   \n",
       "3  https://m.atcdn.co.uk/a/media/{resize}/efe7d1e...         SL6 9SN   \n",
       "4  https://m.atcdn.co.uk/a/media/{resize}/22f4170...         DE1 3PA   \n",
       "\n",
       "                                       sellerwebsite annual_tax  todaysdate  \\\n",
       "0                    http://www.concoursmotorco.com/        NaN  23/03/2021   \n",
       "1                           http://www.alfaaid.co.uk      150.0  23/03/2021   \n",
       "2                    http://pocketrocketsales.co.uk/      165.0  23/03/2021   \n",
       "3  https://dmsgateway.autotrader.co.uk/api/advert...        NaN  23/03/2021   \n",
       "4  https://dmsgateway.autotrader.co.uk/api/advert...      150.0  23/03/2021   \n",
       "\n",
       "  doors_0 doors_1 doors_2  \n",
       "0       0       0       1  \n",
       "1       0       1       0  \n",
       "2       0       1       0  \n",
       "3       0       1       1  \n",
       "4       0       1       1  \n",
       "\n",
       "[5 rows x 29 columns]"
      ]
     },
     "execution_count": 87,
     "metadata": {},
     "output_type": "execute_result"
    }
   ],
   "source": [
    "df.head()"
   ]
  },
  {
   "cell_type": "markdown",
   "metadata": {},
   "source": [
    "### Seats Categorical\n",
    "Using my `find_rare()` function, can find what the highest number of doors is before it is under the 1% 'rare' threshold. Will then Create a new group for this  \n",
    "Nulls transform to 'unknown'  \n",
    "Rare transform to '>5 doors'  "
   ]
  },
  {
   "cell_type": "code",
   "execution_count": 88,
   "metadata": {},
   "outputs": [],
   "source": [
    "df['seats'].fillna('unknown', inplace=True)\n",
    "seat_proportions, seat_rare_labels = find_rare(df.seats)\n",
    "df['seats'] = ['>6 seats' if x in seat_rare_labels and x != 'unknown' else x for x in df.seats]\n",
    "df = to_binary(df, 'seats')"
   ]
  },
  {
   "cell_type": "markdown",
   "metadata": {},
   "source": [
    "### Mileage\n",
    "1. Transform to numerical so can explore distribution\n",
    "\n",
    "Negative correlation ( ~ -0.3 ) between mileage and price\n",
    "\n",
    "Grouped based on quartile"
   ]
  },
  {
   "cell_type": "code",
   "execution_count": 89,
   "metadata": {},
   "outputs": [
    {
     "data": {
      "text/plain": [
       "<AxesSubplot:>"
      ]
     },
     "execution_count": 89,
     "metadata": {},
     "output_type": "execute_result"
    },
    {
     "data": {
      "image/png": "[encoded data removed]",
      "text/plain": [
       "<Figure size 720x504 with 1 Axes>"
      ]
     },
     "metadata": {
      "needs_background": "light"
     },
     "output_type": "display_data"
    }
   ],
   "source": [
    "def extract_numerical(pattern, x):\n",
    "    if isinstance(x, str):\n",
    "        x = re.sub(pattern, '', x)\n",
    "        x = x.replace(',', '')\n",
    "        return int(x)\n",
    "    return x\n",
    "df_mile_copy = df.copy()\n",
    "df_mile_copy['mileage'] = [extract_numerical(r'mile[s]?', x) for x in df_mile_copy['mileage']]\n",
    "\n",
    "miles = np.array(df_mile_copy['mileage'])\n",
    "sns.boxplot(data=miles)"
   ]
  },
  {
   "cell_type": "code",
   "execution_count": 90,
   "metadata": {},
   "outputs": [
    {
     "name": "stdout",
     "output_type": "stream",
     "text": [
      "225205\n",
      "205582\n"
     ]
    }
   ],
   "source": [
    "# df.mileage.head()\n",
    "# below_75_percentile = len(df_mile_copy.loc[df_mile_copy['mileage'] <= 66000.000000])\n",
    "print(len(df_mile_copy))\n",
    "df_mile_copy.dropna(subset=['mileage'], inplace=True)\n",
    "print(len(df_mile_copy))\n",
    "# below_75_percentile\n",
    "# df_mile_copy.head(1)"
   ]
  },
  {
   "cell_type": "code",
   "execution_count": 91,
   "metadata": {},
   "outputs": [],
   "source": [
    "def group_on_quartile(x):\n",
    "    # This ordering assumes that the algo will take 0 to be more important than a larger number (i.e no1 is better than no2)\n",
    "    percentile = stats.percentileofscore(df_mile_copy['mileage'], x, kind='rank')\n",
    "    if percentile < 25:\n",
    "        return 1\n",
    "    elif 25 <= percentile < 50:\n",
    "        return 2\n",
    "    elif 50 <= percentile < 75:\n",
    "        return 3\n",
    "    else:\n",
    "        return 4\n",
    "df_mile_copy['mileage_quartile'] = [group_on_quartile(x) for x in df_mile_copy['mileage']]"
   ]
  },
  {
   "cell_type": "code",
   "execution_count": 92,
   "metadata": {},
   "outputs": [
    {
     "data": {
      "text/plain": [
       "mileage_quartile\n",
       "1    19995.0\n",
       "2    13200.0\n",
       "3     9995.0\n",
       "4     5000.0\n",
       "Name: price, dtype: float64"
      ]
     },
     "execution_count": 92,
     "metadata": {},
     "output_type": "execute_result"
    }
   ],
   "source": [
    "df_mile_copy.groupby('mileage_quartile')['price'].median()"
   ]
  },
  {
   "cell_type": "code",
   "execution_count": 93,
   "metadata": {},
   "outputs": [
    {
     "data": {
      "text/plain": [
       "mileage_quartile\n",
       "1    19995.0\n",
       "2    13200.0\n",
       "3     9995.0\n",
       "4     5000.0\n",
       "Name: price, dtype: float64"
      ]
     },
     "execution_count": 93,
     "metadata": {},
     "output_type": "execute_result"
    }
   ],
   "source": [
    "df.dropna(subset=['mileage'], inplace=True)\n",
    "df['mileage'] = [extract_numerical(r'mile[s]?', x) for x in df['mileage']]\n",
    "df['mileage_quartile'] = [x if isinstance(x, float) else group_on_quartile(x) for x in df['mileage']]\n",
    "\n",
    "df.groupby('mileage_quartile')['price'].median()\n"
   ]
  },
  {
   "cell_type": "markdown",
   "metadata": {},
   "source": [
    "### Emission Scheme\n",
    "ULEZ or Unknown. Encode to binary"
   ]
  },
  {
   "cell_type": "code",
   "execution_count": 94,
   "metadata": {},
   "outputs": [],
   "source": [
    "df['emission_scheme'] = [0 if x == 'ULEZ' else 1 for x in df.emission_scheme]"
   ]
  },
  {
   "cell_type": "markdown",
   "metadata": {},
   "source": [
    "### Owners\n",
    "There appears to be a very weak correlation between an increasing number of owners and a decreasing price  \n",
    "Below figure shows that the relationship is not monotonic with an unusual spike at 11 (in the mean graph)\n",
    "\n",
    "Will likely group into something like:  \n",
    "- 1 owner\n",
    "- 2 to 4 owners\n",
    "- 5 to 9 owners\n",
    "- 10+ owners\n",
    "- unknown (for nans)\n",
    "\n",
    "This grouping is not the most robust - if we check the mean price grouped by the above groups, the relationship is not monotonic due some clear outliers in the 10+ owners driving up the mean price. Likelwise, the mean price for null columns (which have been replaced to unknown) is also higher than 1 owner.\n",
    "\n",
    "Because the price column is so heavily skewed, and it contains significant outliers, I chose to use the median for this purpose. Grouping by and then finding the median price produced a more expected relationship with an increase in the number of owners causing price to drop, on average. Nulls are still surprisingly high, even with the median being used."
   ]
  },
  {
   "cell_type": "code",
   "execution_count": 95,
   "metadata": {},
   "outputs": [
    {
     "data": {
      "text/plain": [
       "owners\n",
       "1 owner      19238.671476\n",
       "10 owners    16269.362069\n",
       "11 owners    18811.320000\n",
       "12 owners     8923.578947\n",
       "13 owners     2299.375000\n",
       "14 owners     5757.600000\n",
       "15 owners     4847.500000\n",
       "16 owners     7500.000000\n",
       "17 owners     6347.000000\n",
       "2 owners     13094.947155\n",
       "3 owners      9999.847936\n",
       "4 owners      9237.990414\n",
       "5 owners      8773.076419\n",
       "6 owners      9872.929412\n",
       "7 owners     10818.614770\n",
       "8 owners      9619.946502\n",
       "9 owners     11099.163121\n",
       "Name: price, dtype: float64"
      ]
     },
     "execution_count": 95,
     "metadata": {},
     "output_type": "execute_result"
    }
   ],
   "source": [
    "df.groupby('owners')['price'].mean()"
   ]
  },
  {
   "cell_type": "code",
   "execution_count": 96,
   "metadata": {},
   "outputs": [],
   "source": [
    "df['num_owners'] = [extract_numerical(r'owner[s]?', x) for x in df['owners']]"
   ]
  },
  {
   "cell_type": "code",
   "execution_count": 97,
   "metadata": {},
   "outputs": [
    {
     "data": {
      "text/plain": [
       "<AxesSubplot:xlabel='num_owners'>"
      ]
     },
     "execution_count": 97,
     "metadata": {},
     "output_type": "execute_result"
    },
    {
     "data": {
      "image/png": "[encoded data removed]",
      "text/plain": [
       "<Figure size 720x504 with 1 Axes>"
      ]
     },
     "metadata": {
      "needs_background": "light"
     },
     "output_type": "display_data"
    }
   ],
   "source": [
    "df.groupby('num_owners')['price'].mean().plot(kind='line')\n",
    "df.groupby('num_owners')['price'].median().plot(kind='line')\n",
    "# df.num_owners.corr(df.price)"
   ]
  },
  {
   "cell_type": "code",
   "execution_count": 98,
   "metadata": {},
   "outputs": [],
   "source": [
    "def group_by_num_owners(x):\n",
    "    try:\n",
    "        x = int(x) # np.nan can't be converted to int\n",
    "    except ValueError:\n",
    "        return 'unknown'\n",
    "    if x == 1:\n",
    "        return '1 owner'\n",
    "    elif 2 <= x <= 4:\n",
    "        return '2to4 owners'\n",
    "    elif 5 <= x <= 9:\n",
    "        return '5to9 owners'\n",
    "    else:\n",
    "        return '10+ owners'\n",
    "    \n",
    "df['owners_grouped'] = [group_by_num_owners(x) for x in df['num_owners']]"
   ]
  },
  {
   "cell_type": "code",
   "execution_count": 99,
   "metadata": {},
   "outputs": [
    {
     "data": {
      "text/plain": [
       "owners_grouped\n",
       "1 owner        14499.0\n",
       "10+ owners      4247.5\n",
       "2to4 owners     7250.0\n",
       "5to9 owners     3995.0\n",
       "unknown        12950.5\n",
       "Name: price, dtype: float64"
      ]
     },
     "execution_count": 99,
     "metadata": {},
     "output_type": "execute_result"
    }
   ],
   "source": [
    "df.groupby('owners_grouped')['price'].median()"
   ]
  },
  {
   "cell_type": "code",
   "execution_count": 100,
   "metadata": {},
   "outputs": [],
   "source": [
    "# Base N encoding of owners grouped\n",
    "\n",
    "def to_base_n(df, x, n=4, drop=True):\n",
    "    local_copy = df.copy()\n",
    "    encoder = ce.BaseNEncoder(cols=[x])\n",
    "    dfbin = encoder.fit_transform(local_copy[x])\n",
    "    local_copy = pd.concat([df, dfbin], axis=1)\n",
    "    if drop:\n",
    "        local_copy.drop(columns=[x], inplace=True)\n",
    "    return local_copy\n",
    "\n",
    "df = to_base_n(df, 'owners_grouped')\n",
    "df.drop(columns=['num_owners'], inplace=True)"
   ]
  },
  {
   "cell_type": "markdown",
   "metadata": {},
   "source": [
    "### Manufactured Year\n",
    "Contains the reg information. Potentially could influence price if a buyer really desires the 'latest' reg plate but this could also be derived from the age of the vehicle i.e buying the latest model new. Will drop col for now"
   ]
  },
  {
   "cell_type": "code",
   "execution_count": 101,
   "metadata": {},
   "outputs": [],
   "source": [
    "df.drop(columns=['manufactured_year'], inplace=True)"
   ]
  },
  {
   "cell_type": "markdown",
   "metadata": {},
   "source": [
    "### Engine size\n",
    "Typically, a larger engine will be in more expensive cars. If you buy an affordable car, fuel efficiency is important for cost cutting. Big engines are often quite thirsty\n",
    "\n",
    "There is one clear outlier for engine size - 3498.0L - this will be an error as it belongs to a Nissan Highway Star. Might drop this row or make a cleaning function that has a size limit in L; anything over this limit will be imputed with an 'unknown'. Over 15L\n",
    "\n",
    "Look into L to CC conversion"
   ]
  },
  {
   "cell_type": "code",
   "execution_count": 104,
   "metadata": {},
   "outputs": [],
   "source": [
    "def engine_to_numerical(x):\n",
    "    try:\n",
    "        x = x[:-1]\n",
    "        return float(x)\n",
    "    except:\n",
    "        return x\n",
    "\n",
    "df['engine_numerical'] = [engine_to_numerical(x) for x in df.engine_size]\n",
    "\n",
    "def group_engine_size(x):\n",
    "    if x <= 1.0:\n",
    "        return 'small'\n",
    "    elif 1.0 < x < 3.0:\n",
    "        return 'medium'\n",
    "    elif 3.0 <= x < 15.0:\n",
    "        return 'large'\n",
    "    elif 15.0 < x < 500: # Assume error in input\n",
    "        x /= 10\n",
    "        return group_engine_size(x)\n",
    "    elif x >= 500: # Assume engine is in CC\n",
    "        x /= 1000\n",
    "        return group_engine_size(x)\n",
    "    else:\n",
    "        return 'unknown'\n",
    "    \n",
    "df['engine_size_numerical'] = [engine_to_numerical(x) for x in df.engine_size]\n",
    "df['engine_size_grouped'] = [group_engine_size(x) for x in df.engine_size_numerical]"
   ]
  },
  {
   "cell_type": "code",
   "execution_count": 108,
   "metadata": {},
   "outputs": [
    {
     "data": {
      "text/plain": [
       "array(['large', 'medium', 'small', 'unknown'], dtype=object)"
      ]
     },
     "execution_count": 108,
     "metadata": {},
     "output_type": "execute_result"
    }
   ],
   "source": [
    "df['engine_size_grouped'].unique()"
   ]
  },
  {
   "cell_type": "code",
   "execution_count": 106,
   "metadata": {},
   "outputs": [
    {
     "data": {
      "text/plain": [
       "engine_size_grouped\n",
       "large      28989.0\n",
       "medium     10595.0\n",
       "small       8190.0\n",
       "unknown    23895.0\n",
       "Name: price, dtype: float64"
      ]
     },
     "execution_count": 106,
     "metadata": {},
     "output_type": "execute_result"
    }
   ],
   "source": [
    "df.groupby('engine_size_grouped')['price'].median()"
   ]
  },
  {
   "cell_type": "code",
   "execution_count": 49,
   "metadata": {},
   "outputs": [],
   "source": [
    "# Base n encoding of grouped engine size. Will use n=4 which is equivalent to ordinal encoding\n",
    "df = to_base_n(df, 'engine_size_grouped', n=4, drop=False)\n",
    "df.drop(columns=['engine_size'], inplace=True)\n",
    "df.drop(columns=['engine_size_numerical'], inplace=True)"
   ]
  },
  {
   "cell_type": "markdown",
   "metadata": {},
   "source": [
    "### Service History\n",
    "Need additional domain knowledge to accurately group these. A 'full' service history should increase the price of a vehicle but there are a number of simlar groups and a very large number of nulls. Will drop"
   ]
  },
  {
   "cell_type": "code",
   "execution_count": 50,
   "metadata": {},
   "outputs": [],
   "source": [
    "df.drop(columns=['service_history'], inplace=True)"
   ]
  },
  {
   "cell_type": "markdown",
   "metadata": {},
   "source": [
    "### Price indicators\n",
    "These show how accurate the listed price is compared the average for that model. The aim of this model is to predict price, rather than predict price at a given 'price indicator'. I.e. not only can the model accurately predict the price of a car, but it could also price is tactically to be above average for a good example and below average to make the car sell faster.\n",
    "\n",
    "This would take more specific domain knowledge as to how these price indicators are allocated. "
   ]
  },
  {
   "cell_type": "code",
   "execution_count": 51,
   "metadata": {},
   "outputs": [
    {
     "data": {
      "text/html": [
       "<div>\n",
       "<style scoped>\n",
       "    .dataframe tbody tr th:only-of-type {\n",
       "        vertical-align: middle;\n",
       "    }\n",
       "\n",
       "    .dataframe tbody tr th {\n",
       "        vertical-align: top;\n",
       "    }\n",
       "\n",
       "    .dataframe thead th {\n",
       "        text-align: right;\n",
       "    }\n",
       "</style>\n",
       "<table border=\"1\" class=\"dataframe\">\n",
       "  <thead>\n",
       "    <tr style=\"text-align: right;\">\n",
       "      <th></th>\n",
       "      <th>make</th>\n",
       "      <th>price</th>\n",
       "      <th>priceindicators</th>\n",
       "    </tr>\n",
       "  </thead>\n",
       "  <tbody>\n",
       "    <tr>\n",
       "      <th>0</th>\n",
       "      <td>20</td>\n",
       "      <td>17995</td>\n",
       "      <td>NaN</td>\n",
       "    </tr>\n",
       "    <tr>\n",
       "      <th>1</th>\n",
       "      <td>20</td>\n",
       "      <td>16995</td>\n",
       "      <td>{'rating': 'FAIR', 'ratingLabel': 'Fair price'}</td>\n",
       "    </tr>\n",
       "    <tr>\n",
       "      <th>2</th>\n",
       "      <td>20</td>\n",
       "      <td>22995</td>\n",
       "      <td>{'rating': 'GREAT', 'ratingLabel': 'Great price'}</td>\n",
       "    </tr>\n",
       "    <tr>\n",
       "      <th>3</th>\n",
       "      <td>20</td>\n",
       "      <td>11995</td>\n",
       "      <td>{'rating': 'FAIR', 'ratingLabel': 'Fair price'}</td>\n",
       "    </tr>\n",
       "    <tr>\n",
       "      <th>4</th>\n",
       "      <td>20</td>\n",
       "      <td>11990</td>\n",
       "      <td>{'rating': 'LOW', 'ratingLabel': 'Lower price'}</td>\n",
       "    </tr>\n",
       "  </tbody>\n",
       "</table>\n",
       "</div>"
      ],
      "text/plain": [
       "   make  price                                    priceindicators\n",
       "0    20  17995                                                NaN\n",
       "1    20  16995    {'rating': 'FAIR', 'ratingLabel': 'Fair price'}\n",
       "2    20  22995  {'rating': 'GREAT', 'ratingLabel': 'Great price'}\n",
       "3    20  11995    {'rating': 'FAIR', 'ratingLabel': 'Fair price'}\n",
       "4    20  11990    {'rating': 'LOW', 'ratingLabel': 'Lower price'}"
      ]
     },
     "execution_count": 51,
     "metadata": {},
     "output_type": "execute_result"
    }
   ],
   "source": [
    "df[['make', 'price', 'priceindicators']].head()"
   ]
  },
  {
   "cell_type": "markdown",
   "metadata": {},
   "source": [
    "### Condition\n",
    "Condition is one of the most straightforward columns to handle. Only 2 groups and a clear distinction between the price of new and used cars. Could be binary encoded. New = 0, used = 1"
   ]
  },
  {
   "cell_type": "code",
   "execution_count": 52,
   "metadata": {},
   "outputs": [
    {
     "data": {
      "text/plain": [
       "condition\n",
       "Used    11500.0\n",
       "Name: price, dtype: float64"
      ]
     },
     "execution_count": 52,
     "metadata": {},
     "output_type": "execute_result"
    }
   ],
   "source": [
    "df.groupby('condition')['price'].median()"
   ]
  },
  {
   "cell_type": "code",
   "execution_count": 53,
   "metadata": {},
   "outputs": [],
   "source": [
    "df['condition'] = [0 if x == 'New' else 1 for x in df.condition]"
   ]
  },
  {
   "cell_type": "markdown",
   "metadata": {},
   "source": [
    "### Imported\n",
    "Bool with no nulls. Interestingly when looking at the mean, the imported cars have a higher average price. When using the median, however, price of imported cars on average is lower than non-imported vehicles.\n",
    "Difficult to establish a relationship because the number of imported cars is so small. 1350 / 225,205 = 0.6% of the data\n",
    "\n",
    "I have encoded True as 0 and False as 1 (bit confusing)"
   ]
  },
  {
   "cell_type": "code",
   "execution_count": 54,
   "metadata": {},
   "outputs": [
    {
     "name": "stdout",
     "output_type": "stream",
     "text": [
      "imported\n",
      "False    16939.930497\n",
      "True     25176.639673\n",
      "Name: price, dtype: float64\n",
      "0.6547265811209153\n"
     ]
    }
   ],
   "source": [
    "print(df.groupby('imported')['price'].mean())\n",
    "print(df.imported.value_counts()[True] / len(df) * 100)"
   ]
  },
  {
   "cell_type": "code",
   "execution_count": 55,
   "metadata": {},
   "outputs": [],
   "source": [
    "df['imported'] = [1 if not x else 0 for x in df.imported]"
   ]
  },
  {
   "cell_type": "markdown",
   "metadata": {},
   "source": [
    "### Year\n",
    "Will be able to engineer vehicle age from this column and todaysdate column"
   ]
  },
  {
   "cell_type": "code",
   "execution_count": 56,
   "metadata": {},
   "outputs": [],
   "source": [
    "# print(df.year.head())\n",
    "year_of_scrape = 2021.0\n",
    "df['vehicle_age'] = [year_of_scrape - x for x in df.year]\n",
    "# Classic Flag"
   ]
  },
  {
   "cell_type": "code",
   "execution_count": 57,
   "metadata": {},
   "outputs": [
    {
     "data": {
      "text/plain": [
       "<AxesSubplot:xlabel='vehicle_age'>"
      ]
     },
     "execution_count": 57,
     "metadata": {},
     "output_type": "execute_result"
    },
    {
     "data": {
      "image/png": "[encoded data removed]",
      "text/plain": [
       "<Figure size 720x504 with 1 Axes>"
      ]
     },
     "metadata": {
      "needs_background": "light"
     },
     "output_type": "display_data"
    }
   ],
   "source": [
    "df.groupby('vehicle_age')['price'].median().plot(kind='line')\n"
   ]
  },
  {
   "cell_type": "code",
   "execution_count": 58,
   "metadata": {},
   "outputs": [],
   "source": [
    "# Drop cols where vehicle age is unknown\n",
    "df = df.dropna(subset=['vehicle_age'])"
   ]
  },
  {
   "cell_type": "markdown",
   "metadata": {},
   "source": [
    "### VRM - Reg plate\n",
    "Very specific information so no clear way to group or transform this col. Will drop for now"
   ]
  },
  {
   "cell_type": "code",
   "execution_count": 59,
   "metadata": {},
   "outputs": [],
   "source": [
    "df.drop(columns=['vrm'], inplace=True)"
   ]
  },
  {
   "cell_type": "markdown",
   "metadata": {},
   "source": [
    "### CO2 Emissions\n",
    "Will try grouping this into tax bands\n",
    "|   CO2 Emissions   \n",
    "| ----------------- |\n",
    "| 0 | \n",
    "| 1 to 50 |\n",
    "| 51 to 75 |\n",
    "| 76 to 90 |\n",
    "| 91 to 100 |\n",
    "| 101 to 110 |\n",
    "| 111 to 130 |\n",
    "| 131 to 150 |\n",
    "| 151 to 170 |\n",
    "| 171 to 190 |\n",
    "| 191 to 225 |\n",
    "| 226 to 255 |\n",
    "| Over 255 |\n",
    "\n",
    "Interestingly, cars in low tax bands are expensive (probably new electric cars) as well as the higher tax bands (large engines / performance engines). Will likely drop this column"
   ]
  },
  {
   "cell_type": "code",
   "execution_count": 60,
   "metadata": {},
   "outputs": [],
   "source": [
    "def co2_to_numerical(x):\n",
    "    if isinstance(x, str):\n",
    "        return int(x[:-4])\n",
    "    else:\n",
    "        return x\n",
    "def co2_grouped(x):\n",
    "    if x == np.nan:\n",
    "        return 'unknown'\n",
    "    elif x == 0:\n",
    "        return 'band1'\n",
    "    elif 1 <= x <= 50:\n",
    "        return 'band2'\n",
    "    elif 51 <= x <= 75:\n",
    "        return 'band3'\n",
    "    elif 76 <= x <= 90:\n",
    "        return 'band4'\n",
    "    elif 91 <= x <= 100:\n",
    "        return 'band5'\n",
    "    elif 101 <= x <= 110:\n",
    "        return 'band6'\n",
    "    elif 111 <= x <= 130:\n",
    "        return 'band7'\n",
    "    elif 131 <= x <= 150:\n",
    "        return 'band8'\n",
    "    elif 151 <= x <= 170:\n",
    "        return 'band9'\n",
    "    elif 171 <= x <= 190:\n",
    "        return 'band10'\n",
    "    elif 191 <= x <= 225:\n",
    "        return 'band11'\n",
    "    elif 226 <= x <= 255:\n",
    "        return 'band12'\n",
    "    else:\n",
    "        return 'band13'"
   ]
  },
  {
   "cell_type": "code",
   "execution_count": 61,
   "metadata": {},
   "outputs": [],
   "source": [
    "df['co2_numerical'] = [co2_to_numerical(x) for x in df.co2Emissions]\n",
    "df['co2_grouped'] = [co2_grouped(x) for x in df.co2_numerical]"
   ]
  },
  {
   "cell_type": "code",
   "execution_count": 62,
   "metadata": {},
   "outputs": [
    {
     "data": {
      "text/plain": [
       "co2_grouped\n",
       "band1     33228.426291\n",
       "band10    20139.177179\n",
       "band11    24334.333724\n",
       "band12    30116.450695\n",
       "band13    47971.584806\n",
       "band2     23633.891936\n",
       "band3     32617.979938\n",
       "band4     12353.042877\n",
       "band5      7425.986678\n",
       "band6      9202.283430\n",
       "band7     11299.342731\n",
       "band8     12612.159153\n",
       "band9     15452.445246\n",
       "Name: price, dtype: float64"
      ]
     },
     "execution_count": 62,
     "metadata": {},
     "output_type": "execute_result"
    }
   ],
   "source": [
    "df.groupby('co2_grouped')['price'].mean()"
   ]
  },
  {
   "cell_type": "code",
   "execution_count": 63,
   "metadata": {},
   "outputs": [],
   "source": [
    "df.drop(columns=['co2Emissions'], inplace=True)\n",
    "df.drop(columns=['co2_numerical'], inplace=True)\n",
    "df.drop(columns=['co2_grouped'], inplace=True)"
   ]
  },
  {
   "cell_type": "markdown",
   "metadata": {},
   "source": [
    "### Mileage Deviation\n",
    "Mileage deviation is the deviation in mileage above or below what is expected for a particular vehicle. Difficult to impute this column without further domain knowledge.\n",
    "\n",
    " Might use a simple encoding. -1 if deviation is below expected, 0 is equal or unknown, 1 if deviation is above expected"
   ]
  },
  {
   "cell_type": "code",
   "execution_count": 64,
   "metadata": {},
   "outputs": [],
   "source": [
    "def encode_mileage_deviation(x):\n",
    "    if isinstance(x, str):\n",
    "        if 'ABOVE' in x:\n",
    "            return 1\n",
    "        elif 'EQUAL' in x:\n",
    "            return 0\n",
    "        elif 'BELOW' in x:\n",
    "            return -1\n",
    "    return 0\n",
    "\n",
    "df['mileageDeviation'] = [encode_mileage_deviation(x) for x in df.mileageDeviation]\n"
   ]
  },
  {
   "cell_type": "markdown",
   "metadata": {},
   "source": [
    "### Advert Title, Advert, Main image, Images\n",
    "These are all extremely difficult columns to encode, especially the images as they are just URLs\n",
    "\n",
    "#### Advert text and title\n",
    "As a bit of fun, I have used a VADER sentiment analyser to get high level groupings of [Negative, Positive, Neutral]. We can see often a neutral sentiment for both the title and the main body of the advery appears to achieve a higher mean price. When we look at the median price, again a positive and negative sentiment does not impact the price greatly, however, a neutral sentiment once again has a higher price on average\n",
    "\n",
    "#### Images\n",
    "I might try to see if there is a link between price and the number of images on the advert. Often, an item with more images can achieve a higher price because the buyer is able to get a better idea of the condion of vehicle.\n",
    "\n",
    "Will drop all of these columns"
   ]
  },
  {
   "cell_type": "code",
   "execution_count": 65,
   "metadata": {},
   "outputs": [],
   "source": [
    "from vaderSentiment.vaderSentiment import SentimentIntensityAnalyzer\n",
    "\n",
    "sid_obj = SentimentIntensityAnalyzer()\n",
    "\n",
    "def get_sentiment(text, sid_obj):\n",
    "    if isinstance(text, float):\n",
    "        text = \"\"\n",
    "\n",
    "    sentiment_dict = sid_obj.polarity_scores(text)\n",
    "\n",
    "    compound = sentiment_dict['compound']\n",
    "    if compound >= 0.05:\n",
    "        return 1\n",
    "    elif compound <= -0.05:\n",
    "        return -1\n",
    "    else:\n",
    "        return 0"
   ]
  },
  {
   "cell_type": "code",
   "execution_count": 66,
   "metadata": {},
   "outputs": [],
   "source": [
    "# df['title_sentiment'] = [get_sentiment(x, sid_obj) for x in df.adverttitle]"
   ]
  },
  {
   "cell_type": "code",
   "execution_count": 67,
   "metadata": {},
   "outputs": [],
   "source": [
    "# Takes about 7 mins\n",
    "# df['advert_sentiment'] = [get_sentiment(x, sid_obj) for x in df.advert]"
   ]
  },
  {
   "cell_type": "code",
   "execution_count": 68,
   "metadata": {},
   "outputs": [],
   "source": [
    "# print(df.groupby('title_sentiment')['price'].median())\n",
    "# print(df.groupby('advert_sentiment')['price'].median())"
   ]
  },
  {
   "cell_type": "code",
   "execution_count": 69,
   "metadata": {},
   "outputs": [],
   "source": [
    "# Engineering feature related to the number of images on an advert\n",
    "df['image_count'] = [x.count('https') if isinstance(x, str) else 0 for x in df.images]"
   ]
  },
  {
   "cell_type": "code",
   "execution_count": 70,
   "metadata": {},
   "outputs": [
    {
     "data": {
      "text/plain": [
       "image_count\n",
       "0      12995.0\n",
       "1      12490.0\n",
       "2      10990.0\n",
       "3       8797.5\n",
       "4       8990.0\n",
       "        ...   \n",
       "96     18882.0\n",
       "97     14380.0\n",
       "98     15995.0\n",
       "99     17990.0\n",
       "100    15995.0\n",
       "Name: price, Length: 101, dtype: float64"
      ]
     },
     "execution_count": 70,
     "metadata": {},
     "output_type": "execute_result"
    }
   ],
   "source": [
    "df.groupby('image_count')['price'].median()"
   ]
  },
  {
   "cell_type": "code",
   "execution_count": 71,
   "metadata": {},
   "outputs": [],
   "source": [
    "df.drop(columns=['adverttitle'], inplace=True)\n",
    "df.drop(columns=['advert'], inplace=True)\n",
    "df.drop(columns=['mainimage'], inplace=True)\n",
    "df.drop(columns=['images'], inplace=True)\n",
    "df.drop(columns=['image_count'], inplace=True)\n",
    "try:\n",
    "    df.drop(columns=['title_sentiment'], inplace=True)\n",
    "except:\n",
    "    pass\n",
    "try:\n",
    "    df.drop(columns=['advert_sentiment'], inplace=True)\n",
    "except:\n",
    "    pass\n"
   ]
  },
  {
   "cell_type": "markdown",
   "metadata": {},
   "source": [
    "### Seller Postcode\n",
    "Likely certain postcodes will on average have higher priced cars (london vs edinburgh)  \n",
    "No way to impute this\n",
    "\n",
    "#### Haversine Formula - https://en.wikipedia.org/wiki/Haversine_formula\n",
    "Using this stackoverflow post - https://datascience.stackexchange.com/questions/49553/combining-latitude-longitude-position-into-single-feature - whilst not ideal, there are some ways to combine lat and long into a single feature. At a high level it is the distance between 2 points over a spherical surface\n",
    "\n",
    "\n",
    "There doesn't appear to be any strong relationsjip between any geographical information and the price of the car. \n",
    "\n",
    "I have tried to encode some geo information (lat and long) into a single feature, however, this does not handle the nulls (about 13% of data)"
   ]
  },
  {
   "cell_type": "code",
   "execution_count": 72,
   "metadata": {},
   "outputs": [],
   "source": [
    "import pgeocode\n",
    "\n",
    "nomi = pgeocode.Nominatim('gb')\n",
    "postcodes = list(df.sellerpostcode)\n",
    "geo_df = nomi.query_postal_code(postcodes)"
   ]
  },
  {
   "cell_type": "code",
   "execution_count": 73,
   "metadata": {},
   "outputs": [
    {
     "name": "stdout",
     "output_type": "stream",
     "text": [
      "  postal_code country_code                                         place_name  \\\n",
      "0         SL6           GB  Taplow, Hurley Bottom, Littlewick Green, Holyp...   \n",
      "1        SY13           GB  Tilstock, Bronington, Arowry, Wilkesley, The C...   \n",
      "2         SL6           GB  Taplow, Hurley Bottom, Littlewick Green, Holyp...   \n",
      "3         DE1           GB                                              Derby   \n",
      "4        DE14           GB                        Burton upon Trent, Branston   \n",
      "\n",
      "  state_name state_code      county_name county_code community_name  \\\n",
      "0    England        ENG  Buckinghamshire    11609028            NaN   \n",
      "1    England        ENG       Shropshire    11609013            NaN   \n",
      "2    England        ENG  Buckinghamshire    11609028            NaN   \n",
      "3    England        ENG       Derbyshire    11609031            NaN   \n",
      "4    England        ENG    Staffordshire    11609018            NaN   \n",
      "\n",
      "  community_code  latitude  longitude  accuracy  \n",
      "0            NaN   51.5330  -0.729595       4.0  \n",
      "1            NaN   52.9356  -2.675132       4.0  \n",
      "2            NaN   51.5330  -0.729595       4.0  \n",
      "3            NaN   52.9228  -1.476600       4.0  \n",
      "4            NaN   52.8073  -1.654650       4.0  \n",
      "0.14663124197825578\n"
     ]
    }
   ],
   "source": [
    "print(geo_df.head(5))\n",
    "print(df.sellerpostcode.isnull().sum() / len(df))\n"
   ]
  },
  {
   "cell_type": "code",
   "execution_count": 74,
   "metadata": {},
   "outputs": [],
   "source": [
    "df['county_name'] = geo_df['county_name']\n",
    "df['state_name'] = geo_df['state_name']\n",
    "df['latitude'] = geo_df['latitude']\n",
    "df['longitude'] = geo_df['longitude']"
   ]
  },
  {
   "cell_type": "code",
   "execution_count": 75,
   "metadata": {},
   "outputs": [
    {
     "data": {
      "text/plain": [
       "state_name\n",
       "England             16524.824332\n",
       "Northern Ireland    16940.804262\n",
       "Scotland            16868.375075\n",
       "Wales               16094.326772\n",
       "Name: price, dtype: float64"
      ]
     },
     "execution_count": 75,
     "metadata": {},
     "output_type": "execute_result"
    }
   ],
   "source": [
    "df.groupby('state_name')['price'].mean()"
   ]
  },
  {
   "cell_type": "code",
   "execution_count": 76,
   "metadata": {},
   "outputs": [],
   "source": [
    "from math import radians, cos, sin, asin, sqrt\n",
    "\n",
    "def single_pt_haversine(lat, lng, decimal_degrees=True):\n",
    "    \"\"\"\n",
    "    'Single-point' Haversine: Calculates the great circle distance\n",
    "    between a point on Earth and the (0, 0) lat-long coordinate\n",
    "    \"\"\"\n",
    "    r = 6371 # Earth's radius (km). Have r = 3956 if you want miles\n",
    "\n",
    "    # Convert decimal degrees to radians\n",
    "    if decimal_degrees:\n",
    "        lat, lng = map(radians, [lat, lng])\n",
    "\n",
    "    # 'Single-point' Haversine formula\n",
    "    a = sin(lat/2)**2 + cos(lat) * sin(lng/2)**2\n",
    "    d = 2 * r * asin(sqrt(a)) \n",
    "\n",
    "    return d"
   ]
  },
  {
   "cell_type": "code",
   "execution_count": 77,
   "metadata": {},
   "outputs": [
    {
     "name": "stdout",
     "output_type": "stream",
     "text": [
      "-0.002395622355786255\n"
     ]
    }
   ],
   "source": [
    "df['lon_lat_feature'] = [single_pt_haversine(lat, long, decimal_degrees=True) for long, lat in zip(df.longitude, df.latitude)]\n",
    "print(df['lon_lat_feature'].corr(df.price))"
   ]
  },
  {
   "cell_type": "code",
   "execution_count": 78,
   "metadata": {},
   "outputs": [],
   "source": [
    "df.drop(columns=['county_name'], inplace=True)\n",
    "df.drop(columns=['state_name'], inplace=True)\n",
    "df.drop(columns=['latitude'], inplace=True)\n",
    "df.drop(columns=['longitude'], inplace=True)\n",
    "df.drop(columns=['sellerpostcode'], inplace=True)"
   ]
  },
  {
   "cell_type": "markdown",
   "metadata": {},
   "source": [
    "### Seller website\n",
    "Drop this column for now"
   ]
  },
  {
   "cell_type": "code",
   "execution_count": 79,
   "metadata": {},
   "outputs": [],
   "source": [
    "df.drop(columns=['sellerwebsite'], inplace=True)"
   ]
  },
  {
   "cell_type": "markdown",
   "metadata": {},
   "source": [
    "### Annual tax"
   ]
  },
  {
   "cell_type": "code",
   "execution_count": 80,
   "metadata": {},
   "outputs": [
    {
     "data": {
      "text/plain": [
       "<AxesSubplot:>"
      ]
     },
     "execution_count": 80,
     "metadata": {},
     "output_type": "execute_result"
    },
    {
     "data": {
      "image/png": "[encoded data removed]",
      "text/plain": [
       "<Figure size 720x504 with 1 Axes>"
      ]
     },
     "metadata": {
      "needs_background": "light"
     },
     "output_type": "display_data"
    }
   ],
   "source": [
    "df.annual_tax.plot(kind='box')"
   ]
  },
  {
   "cell_type": "code",
   "execution_count": 81,
   "metadata": {},
   "outputs": [],
   "source": [
    "engine_tax_dict = dict(df.groupby('engine_size_grouped')['annual_tax'].mean())\n",
    "mask = df['annual_tax'].isnull()\n",
    "df.loc[mask, 'annual_tax'] = df.loc[mask, 'engine_size_grouped'].map(engine_tax_dict)"
   ]
  },
  {
   "cell_type": "code",
   "execution_count": 82,
   "metadata": {},
   "outputs": [],
   "source": [
    "def tax_group_on_quartile(x):\n",
    "    # This ordering assumes that the algo will take 0 to be more important than a larger number (i.e no1 is better than no2)\n",
    "    percentile = stats.percentileofscore(df.annual_tax, x, kind='rank')\n",
    "    if percentile < 25:\n",
    "        return 1\n",
    "    elif 25 <= percentile < 50:\n",
    "        return 2\n",
    "    elif 50 <= percentile < 75:\n",
    "        return 3\n",
    "    else:\n",
    "        return 4\n",
    "\n",
    "df['annual_tax'] = [tax_group_on_quartile(x) for x in df.annual_tax]"
   ]
  },
  {
   "cell_type": "code",
   "execution_count": 83,
   "metadata": {},
   "outputs": [
    {
     "data": {
      "text/plain": [
       "1    3\n",
       "2    4\n",
       "3    2\n",
       "4    3\n",
       "5    3\n",
       "Name: annual_tax, dtype: int64"
      ]
     },
     "execution_count": 83,
     "metadata": {},
     "output_type": "execute_result"
    }
   ],
   "source": [
    "df['annual_tax'].head()"
   ]
  },
  {
   "cell_type": "code",
   "execution_count": 84,
   "metadata": {},
   "outputs": [
    {
     "data": {
      "text/plain": [
       "annual_tax\n",
       "1    11804.110306\n",
       "2    15133.026329\n",
       "3    20373.330632\n",
       "4    14992.298740\n",
       "Name: price, dtype: float64"
      ]
     },
     "execution_count": 84,
     "metadata": {},
     "output_type": "execute_result"
    }
   ],
   "source": [
    "df.groupby('annual_tax')['price'].mean()"
   ]
  },
  {
   "cell_type": "code",
   "execution_count": 85,
   "metadata": {},
   "outputs": [
    {
     "data": {
      "text/html": [
       "<div>\n",
       "<style scoped>\n",
       "    .dataframe tbody tr th:only-of-type {\n",
       "        vertical-align: middle;\n",
       "    }\n",
       "\n",
       "    .dataframe tbody tr th {\n",
       "        vertical-align: top;\n",
       "    }\n",
       "\n",
       "    .dataframe thead th {\n",
       "        text-align: right;\n",
       "    }\n",
       "</style>\n",
       "<table border=\"1\" class=\"dataframe\">\n",
       "  <thead>\n",
       "    <tr style=\"text-align: right;\">\n",
       "      <th></th>\n",
       "      <th>make</th>\n",
       "      <th>transmission</th>\n",
       "      <th>fuel_type</th>\n",
       "      <th>mileage</th>\n",
       "      <th>emission_scheme</th>\n",
       "      <th>owners</th>\n",
       "      <th>price</th>\n",
       "      <th>priceindicators</th>\n",
       "      <th>condition</th>\n",
       "      <th>imported</th>\n",
       "      <th>...</th>\n",
       "      <th>mileage_quartile</th>\n",
       "      <th>owners_grouped_0</th>\n",
       "      <th>owners_grouped_1</th>\n",
       "      <th>owners_grouped_2</th>\n",
       "      <th>engine_size_grouped</th>\n",
       "      <th>engine_size_grouped_0</th>\n",
       "      <th>engine_size_grouped_1</th>\n",
       "      <th>engine_size_grouped_2</th>\n",
       "      <th>vehicle_age</th>\n",
       "      <th>lon_lat_feature</th>\n",
       "    </tr>\n",
       "  </thead>\n",
       "  <tbody>\n",
       "    <tr>\n",
       "      <th>1</th>\n",
       "      <td>20</td>\n",
       "      <td>1</td>\n",
       "      <td>1</td>\n",
       "      <td>17464</td>\n",
       "      <td>0</td>\n",
       "      <td>NaN</td>\n",
       "      <td>16995</td>\n",
       "      <td>{'rating': 'FAIR', 'ratingLabel': 'Fair price'}</td>\n",
       "      <td>1</td>\n",
       "      <td>1</td>\n",
       "      <td>...</td>\n",
       "      <td>2</td>\n",
       "      <td>0</td>\n",
       "      <td>0</td>\n",
       "      <td>1</td>\n",
       "      <td>medium</td>\n",
       "      <td>0</td>\n",
       "      <td>1</td>\n",
       "      <td>0</td>\n",
       "      <td>7.0</td>\n",
       "      <td>5891.412663</td>\n",
       "    </tr>\n",
       "    <tr>\n",
       "      <th>2</th>\n",
       "      <td>20</td>\n",
       "      <td>1</td>\n",
       "      <td>1</td>\n",
       "      <td>8500</td>\n",
       "      <td>0</td>\n",
       "      <td>3 owners</td>\n",
       "      <td>22995</td>\n",
       "      <td>{'rating': 'GREAT', 'ratingLabel': 'Great price'}</td>\n",
       "      <td>1</td>\n",
       "      <td>1</td>\n",
       "      <td>...</td>\n",
       "      <td>1</td>\n",
       "      <td>0</td>\n",
       "      <td>1</td>\n",
       "      <td>0</td>\n",
       "      <td>medium</td>\n",
       "      <td>0</td>\n",
       "      <td>1</td>\n",
       "      <td>0</td>\n",
       "      <td>7.0</td>\n",
       "      <td>5730.618520</td>\n",
       "    </tr>\n",
       "    <tr>\n",
       "      <th>3</th>\n",
       "      <td>20</td>\n",
       "      <td>0</td>\n",
       "      <td>1</td>\n",
       "      <td>17000</td>\n",
       "      <td>0</td>\n",
       "      <td>NaN</td>\n",
       "      <td>11995</td>\n",
       "      <td>{'rating': 'FAIR', 'ratingLabel': 'Fair price'}</td>\n",
       "      <td>1</td>\n",
       "      <td>1</td>\n",
       "      <td>...</td>\n",
       "      <td>2</td>\n",
       "      <td>0</td>\n",
       "      <td>0</td>\n",
       "      <td>1</td>\n",
       "      <td>medium</td>\n",
       "      <td>0</td>\n",
       "      <td>1</td>\n",
       "      <td>0</td>\n",
       "      <td>11.0</td>\n",
       "      <td>5886.345407</td>\n",
       "    </tr>\n",
       "    <tr>\n",
       "      <th>4</th>\n",
       "      <td>20</td>\n",
       "      <td>1</td>\n",
       "      <td>1</td>\n",
       "      <td>12900</td>\n",
       "      <td>0</td>\n",
       "      <td>2 owners</td>\n",
       "      <td>11990</td>\n",
       "      <td>{'rating': 'LOW', 'ratingLabel': 'Lower price'}</td>\n",
       "      <td>1</td>\n",
       "      <td>1</td>\n",
       "      <td>...</td>\n",
       "      <td>1</td>\n",
       "      <td>0</td>\n",
       "      <td>1</td>\n",
       "      <td>0</td>\n",
       "      <td>medium</td>\n",
       "      <td>0</td>\n",
       "      <td>1</td>\n",
       "      <td>0</td>\n",
       "      <td>5.0</td>\n",
       "      <td>5873.919489</td>\n",
       "    </tr>\n",
       "    <tr>\n",
       "      <th>5</th>\n",
       "      <td>20</td>\n",
       "      <td>1</td>\n",
       "      <td>1</td>\n",
       "      <td>22218</td>\n",
       "      <td>0</td>\n",
       "      <td>NaN</td>\n",
       "      <td>10300</td>\n",
       "      <td>{'rating': 'GOOD', 'ratingLabel': 'Good price'}</td>\n",
       "      <td>1</td>\n",
       "      <td>1</td>\n",
       "      <td>...</td>\n",
       "      <td>2</td>\n",
       "      <td>0</td>\n",
       "      <td>0</td>\n",
       "      <td>1</td>\n",
       "      <td>medium</td>\n",
       "      <td>0</td>\n",
       "      <td>1</td>\n",
       "      <td>0</td>\n",
       "      <td>9.0</td>\n",
       "      <td>5711.397563</td>\n",
       "    </tr>\n",
       "  </tbody>\n",
       "</table>\n",
       "<p>5 rows × 30 columns</p>\n",
       "</div>"
      ],
      "text/plain": [
       "   make  transmission  fuel_type  mileage  emission_scheme    owners  price  \\\n",
       "1    20             1          1    17464                0       NaN  16995   \n",
       "2    20             1          1     8500                0  3 owners  22995   \n",
       "3    20             0          1    17000                0       NaN  11995   \n",
       "4    20             1          1    12900                0  2 owners  11990   \n",
       "5    20             1          1    22218                0       NaN  10300   \n",
       "\n",
       "                                     priceindicators  condition  imported  \\\n",
       "1    {'rating': 'FAIR', 'ratingLabel': 'Fair price'}          1         1   \n",
       "2  {'rating': 'GREAT', 'ratingLabel': 'Great price'}          1         1   \n",
       "3    {'rating': 'FAIR', 'ratingLabel': 'Fair price'}          1         1   \n",
       "4    {'rating': 'LOW', 'ratingLabel': 'Lower price'}          1         1   \n",
       "5    {'rating': 'GOOD', 'ratingLabel': 'Good price'}          1         1   \n",
       "\n",
       "   ...  mileage_quartile  owners_grouped_0  owners_grouped_1 owners_grouped_2  \\\n",
       "1  ...                 2                 0                 0                1   \n",
       "2  ...                 1                 0                 1                0   \n",
       "3  ...                 2                 0                 0                1   \n",
       "4  ...                 1                 0                 1                0   \n",
       "5  ...                 2                 0                 0                1   \n",
       "\n",
       "   engine_size_grouped  engine_size_grouped_0  engine_size_grouped_1  \\\n",
       "1               medium                      0                      1   \n",
       "2               medium                      0                      1   \n",
       "3               medium                      0                      1   \n",
       "4               medium                      0                      1   \n",
       "5               medium                      0                      1   \n",
       "\n",
       "   engine_size_grouped_2  vehicle_age  lon_lat_feature  \n",
       "1                      0          7.0      5891.412663  \n",
       "2                      0          7.0      5730.618520  \n",
       "3                      0         11.0      5886.345407  \n",
       "4                      0          5.0      5873.919489  \n",
       "5                      0          9.0      5711.397563  \n",
       "\n",
       "[5 rows x 30 columns]"
      ]
     },
     "execution_count": 85,
     "metadata": {},
     "output_type": "execute_result"
    }
   ],
   "source": [
    "df.head()"
   ]
  },
  {
   "cell_type": "code",
   "execution_count": 86,
   "metadata": {},
   "outputs": [],
   "source": [
    "# Dropping cols\n",
    "# df.drop(columns=['owners'], inplace=True)\n",
    "cols_to_drop = ['year', 'todaysdate', 'owners', 'priceindicators', 'engine_size_grouped', 'mileage', 'lon_lat_feature']\n",
    "df.drop(columns=cols_to_drop, inplace=True)\n",
    "# df.drop(columns=['year'], inplace=True)\n",
    "# df.drop(columns=['todaysdate'], inplace=True)\n",
    "# df.drop(columns=['owners'], inplace=True)\n",
    "# df.drop(columns=['num_owners'], inplace=True)\n",
    "# df.drop(columns=['priceindicators'], inplace=True)"
   ]
  },
  {
   "cell_type": "code",
   "execution_count": 87,
   "metadata": {},
   "outputs": [
    {
     "data": {
      "text/html": [
       "<div>\n",
       "<style scoped>\n",
       "    .dataframe tbody tr th:only-of-type {\n",
       "        vertical-align: middle;\n",
       "    }\n",
       "\n",
       "    .dataframe tbody tr th {\n",
       "        vertical-align: top;\n",
       "    }\n",
       "\n",
       "    .dataframe thead th {\n",
       "        text-align: right;\n",
       "    }\n",
       "</style>\n",
       "<table border=\"1\" class=\"dataframe\">\n",
       "  <thead>\n",
       "    <tr style=\"text-align: right;\">\n",
       "      <th></th>\n",
       "      <th>make</th>\n",
       "      <th>transmission</th>\n",
       "      <th>fuel_type</th>\n",
       "      <th>emission_scheme</th>\n",
       "      <th>price</th>\n",
       "      <th>condition</th>\n",
       "      <th>imported</th>\n",
       "      <th>mileageDeviation</th>\n",
       "      <th>annual_tax</th>\n",
       "      <th>doors_0</th>\n",
       "      <th>...</th>\n",
       "      <th>seats_1</th>\n",
       "      <th>seats_2</th>\n",
       "      <th>mileage_quartile</th>\n",
       "      <th>owners_grouped_0</th>\n",
       "      <th>owners_grouped_1</th>\n",
       "      <th>owners_grouped_2</th>\n",
       "      <th>engine_size_grouped_0</th>\n",
       "      <th>engine_size_grouped_1</th>\n",
       "      <th>engine_size_grouped_2</th>\n",
       "      <th>vehicle_age</th>\n",
       "    </tr>\n",
       "  </thead>\n",
       "  <tbody>\n",
       "    <tr>\n",
       "      <th>1</th>\n",
       "      <td>20</td>\n",
       "      <td>1</td>\n",
       "      <td>1</td>\n",
       "      <td>0</td>\n",
       "      <td>16995</td>\n",
       "      <td>1</td>\n",
       "      <td>1</td>\n",
       "      <td>1</td>\n",
       "      <td>3</td>\n",
       "      <td>0</td>\n",
       "      <td>...</td>\n",
       "      <td>1</td>\n",
       "      <td>0</td>\n",
       "      <td>2</td>\n",
       "      <td>0</td>\n",
       "      <td>0</td>\n",
       "      <td>1</td>\n",
       "      <td>0</td>\n",
       "      <td>1</td>\n",
       "      <td>0</td>\n",
       "      <td>7.0</td>\n",
       "    </tr>\n",
       "    <tr>\n",
       "      <th>2</th>\n",
       "      <td>20</td>\n",
       "      <td>1</td>\n",
       "      <td>1</td>\n",
       "      <td>0</td>\n",
       "      <td>22995</td>\n",
       "      <td>1</td>\n",
       "      <td>1</td>\n",
       "      <td>-1</td>\n",
       "      <td>4</td>\n",
       "      <td>0</td>\n",
       "      <td>...</td>\n",
       "      <td>1</td>\n",
       "      <td>1</td>\n",
       "      <td>1</td>\n",
       "      <td>0</td>\n",
       "      <td>1</td>\n",
       "      <td>0</td>\n",
       "      <td>0</td>\n",
       "      <td>1</td>\n",
       "      <td>0</td>\n",
       "      <td>7.0</td>\n",
       "    </tr>\n",
       "    <tr>\n",
       "      <th>3</th>\n",
       "      <td>20</td>\n",
       "      <td>0</td>\n",
       "      <td>1</td>\n",
       "      <td>0</td>\n",
       "      <td>11995</td>\n",
       "      <td>1</td>\n",
       "      <td>1</td>\n",
       "      <td>-1</td>\n",
       "      <td>2</td>\n",
       "      <td>0</td>\n",
       "      <td>...</td>\n",
       "      <td>1</td>\n",
       "      <td>0</td>\n",
       "      <td>2</td>\n",
       "      <td>0</td>\n",
       "      <td>0</td>\n",
       "      <td>1</td>\n",
       "      <td>0</td>\n",
       "      <td>1</td>\n",
       "      <td>0</td>\n",
       "      <td>11.0</td>\n",
       "    </tr>\n",
       "    <tr>\n",
       "      <th>4</th>\n",
       "      <td>20</td>\n",
       "      <td>1</td>\n",
       "      <td>1</td>\n",
       "      <td>0</td>\n",
       "      <td>11990</td>\n",
       "      <td>1</td>\n",
       "      <td>1</td>\n",
       "      <td>-1</td>\n",
       "      <td>3</td>\n",
       "      <td>0</td>\n",
       "      <td>...</td>\n",
       "      <td>1</td>\n",
       "      <td>0</td>\n",
       "      <td>1</td>\n",
       "      <td>0</td>\n",
       "      <td>1</td>\n",
       "      <td>0</td>\n",
       "      <td>0</td>\n",
       "      <td>1</td>\n",
       "      <td>0</td>\n",
       "      <td>5.0</td>\n",
       "    </tr>\n",
       "    <tr>\n",
       "      <th>5</th>\n",
       "      <td>20</td>\n",
       "      <td>1</td>\n",
       "      <td>1</td>\n",
       "      <td>0</td>\n",
       "      <td>10300</td>\n",
       "      <td>1</td>\n",
       "      <td>1</td>\n",
       "      <td>-1</td>\n",
       "      <td>3</td>\n",
       "      <td>0</td>\n",
       "      <td>...</td>\n",
       "      <td>1</td>\n",
       "      <td>0</td>\n",
       "      <td>2</td>\n",
       "      <td>0</td>\n",
       "      <td>0</td>\n",
       "      <td>1</td>\n",
       "      <td>0</td>\n",
       "      <td>1</td>\n",
       "      <td>0</td>\n",
       "      <td>9.0</td>\n",
       "    </tr>\n",
       "  </tbody>\n",
       "</table>\n",
       "<p>5 rows × 23 columns</p>\n",
       "</div>"
      ],
      "text/plain": [
       "   make  transmission  fuel_type  emission_scheme  price  condition  imported  \\\n",
       "1    20             1          1                0  16995          1         1   \n",
       "2    20             1          1                0  22995          1         1   \n",
       "3    20             0          1                0  11995          1         1   \n",
       "4    20             1          1                0  11990          1         1   \n",
       "5    20             1          1                0  10300          1         1   \n",
       "\n",
       "   mileageDeviation  annual_tax  doors_0  ...  seats_1  seats_2  \\\n",
       "1                 1           3        0  ...        1        0   \n",
       "2                -1           4        0  ...        1        1   \n",
       "3                -1           2        0  ...        1        0   \n",
       "4                -1           3        0  ...        1        0   \n",
       "5                -1           3        0  ...        1        0   \n",
       "\n",
       "   mileage_quartile  owners_grouped_0  owners_grouped_1  owners_grouped_2  \\\n",
       "1                 2                 0                 0                 1   \n",
       "2                 1                 0                 1                 0   \n",
       "3                 2                 0                 0                 1   \n",
       "4                 1                 0                 1                 0   \n",
       "5                 2                 0                 0                 1   \n",
       "\n",
       "   engine_size_grouped_0  engine_size_grouped_1  engine_size_grouped_2  \\\n",
       "1                      0                      1                      0   \n",
       "2                      0                      1                      0   \n",
       "3                      0                      1                      0   \n",
       "4                      0                      1                      0   \n",
       "5                      0                      1                      0   \n",
       "\n",
       "   vehicle_age  \n",
       "1          7.0  \n",
       "2          7.0  \n",
       "3         11.0  \n",
       "4          5.0  \n",
       "5          9.0  \n",
       "\n",
       "[5 rows x 23 columns]"
      ]
     },
     "execution_count": 87,
     "metadata": {},
     "output_type": "execute_result"
    }
   ],
   "source": [
    "df.head()"
   ]
  },
  {
   "cell_type": "code",
   "execution_count": 88,
   "metadata": {},
   "outputs": [
    {
     "name": "stdout",
     "output_type": "stream",
     "text": [
      "0:03:14.567052\n"
     ]
    }
   ],
   "source": [
    "end = datetime.now() - start\n",
    "print(end)"
   ]
  },
  {
   "cell_type": "code",
   "execution_count": 89,
   "metadata": {},
   "outputs": [
    {
     "data": {
      "text/plain": [
       "200237"
      ]
     },
     "execution_count": 89,
     "metadata": {},
     "output_type": "execute_result"
    }
   ],
   "source": [
    "len(df)"
   ]
  },
  {
   "cell_type": "code",
   "execution_count": null,
   "metadata": {},
   "outputs": [],
   "source": []
  }
 ],
 "metadata": {
  "interpreter": {
   "hash": "5b419173de24494810e65c4ea4d4c859b912f4352999b480e23ee82152eb9c1e"
  },
  "kernelspec": {
   "display_name": "Python 3.8.12 ('pyZak')",
   "language": "python",
   "name": "python3"
  },
  "language_info": {
   "codemirror_mode": {
    "name": "ipython",
    "version": 3
   },
   "file_extension": ".py",
   "mimetype": "text/x-python",
   "name": "python",
   "nbconvert_exporter": "python",
   "pygments_lexer": "ipython3",
   "version": "3.8.12"
  },
  "orig_nbformat": 4
 },
 "nbformat": 4,
 "nbformat_minor": 2
}
