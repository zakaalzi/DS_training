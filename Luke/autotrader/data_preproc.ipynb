{
 "cells": [
  {
   "cell_type": "code",
   "execution_count": 1,
   "metadata": {},
   "outputs": [],
   "source": [
    "import matplotlib\n",
    "import matplotlib.pyplot as plt\n",
    "import seaborn as sns\n",
    "import numpy as np\n",
    "import pandas as pd\n",
    "import re\n",
    "from scipy import stats\n",
    "from datetime import datetime\n",
    "\n",
    "matplotlib.rcParams['figure.figsize'] = (10, 7)"
   ]
  },
  {
   "cell_type": "code",
   "execution_count": 2,
   "metadata": {},
   "outputs": [],
   "source": [
    "class DataLoader():\n",
    "\n",
    "    def __init__(self, path):\n",
    "        self.path = path\n",
    "\n",
    "    @staticmethod\n",
    "    def _fill_empty_with_nan(df):\n",
    "        return df.replace({None: np.nan})\n",
    "    \n",
    "    @staticmethod\n",
    "    def _rename_columns(df):\n",
    "        rename_dict = dict()\n",
    "        for col in df.columns:\n",
    "            if \"-\" in col:\n",
    "                rename_dict[col] = col.replace('-', '_')\n",
    "        rename_dict = {**rename_dict, **{'dellerswebsite': 'sellerwebsite'}}    \n",
    "        return df.rename(columns=rename_dict)\n",
    "    \n",
    "    @staticmethod\n",
    "    def _drop_unused_columns(df):\n",
    "        cols_to_drop = [\n",
    "            # 'model', \n",
    "            'trim', \n",
    "            'body_type', \n",
    "            'generation', \n",
    "            'manufactured_year', \n",
    "            'service_history', \n",
    "            'vrm', \n",
    "            'co2Emissions',\n",
    "            'adverttitle',\n",
    "            'advert',\n",
    "            'mainimage',\n",
    "            'images',\n",
    "            'sellerpostcode',\n",
    "            'sellerwebsite',\n",
    "            'year', \n",
    "            'todaysdate', \n",
    "            'owners', \n",
    "            'priceindicators', \n",
    "            'mileage'\n",
    "        ]\n",
    "        return df.drop(columns=cols_to_drop)\n",
    "\n",
    "\n",
    "    def load_parquet(self, use_nullable=False):\n",
    "        df = self._rename_columns(\n",
    "                self._fill_empty_with_nan(\n",
    "                    pd.read_parquet(self.path, use_nullable_dtypes=use_nullable)\n",
    "                    )\n",
    "                )\n",
    "\n",
    "        return self._drop_unused_columns(df)"
   ]
  },
  {
   "cell_type": "code",
   "execution_count": 3,
   "metadata": {},
   "outputs": [],
   "source": [
    "df = DataLoader(path=\"car_data.parquet.gzip\").load_parquet()"
   ]
  },
  {
   "cell_type": "code",
   "execution_count": 4,
   "metadata": {},
   "outputs": [],
   "source": [
    "class DataCleaner():\n",
    "\n",
    "    def __init__(self, df):\n",
    "        self.df = df\n",
    "\n",
    "    @staticmethod\n",
    "    def clean_price(x):\n",
    "        try:\n",
    "            currency_symbols = ['£', '$', '€']\n",
    "            for symbol in currency_symbols:\n",
    "                x = x.replace(symbol, '')\n",
    "            x = x.replace(',', '')\n",
    "            return int(x)\n",
    "        except:\n",
    "            return x\n",
    "\n",
    "    \n",
    "    def remove_skewed_outliers(self, col):\n",
    "        \"\"\"\n",
    "        Remove based on IQR range\n",
    "        - A multiplier of 1.5 represents a +- 2.7 SD. +- 3 SD for a Gaussian is 99% of the data \n",
    "        \"\"\"\n",
    "        x = np.array(self.df[col])\n",
    "        q3, q1 = np.percentile(x, [75 ,25])\n",
    "        iqr_const = (q3 - q1) * 1.5\n",
    "        upper_bound = q3 + iqr_const\n",
    "        lower_bound = q1 - iqr_const\n",
    "\n",
    "        mask = (x < lower_bound) & (x > upper_bound)\n",
    "        return df[mask]\n",
    "\n",
    "    def clean_data(self):\n",
    "        ## Clean target: Price\n",
    "        self.df['price'] = [self.clean_price(x) for x in self.df['price']]\n",
    "        return self.remove_skewed_outliers('price')"
   ]
  },
  {
   "cell_type": "code",
   "execution_count": 5,
   "metadata": {},
   "outputs": [],
   "source": [
    "data_cleaner = DataCleaner(df)\n",
    "df['price'] = [data_cleaner.clean_price(x) for x in df.price]\n",
    "price = df['price']"
   ]
  },
  {
   "cell_type": "code",
   "execution_count": 6,
   "metadata": {},
   "outputs": [],
   "source": [
    "q3, q1 = np.percentile(price, [75 ,25])\n",
    "iqr_const = (q3 - q1) * 1.5\n",
    "upper_bound = q3 + iqr_const\n",
    "lower_bound = q1 - iqr_const"
   ]
  },
  {
   "cell_type": "code",
   "execution_count": 7,
   "metadata": {},
   "outputs": [
    {
     "name": "stdout",
     "output_type": "stream",
     "text": [
      "Q1: 6995.0\n",
      "Q3: 22491.0\n",
      "IQR: 15496.0\n",
      "lower: -16249.0\n",
      "upper: 45735.0\n"
     ]
    }
   ],
   "source": [
    "print(f\"Q1: {q1}\")\n",
    "print(f\"Q3: {q3}\")\n",
    "print(f\"IQR: {q3 - q1}\")\n",
    "print(f\"lower: {lower_bound}\")\n",
    "print(f\"upper: {upper_bound}\")"
   ]
  },
  {
   "cell_type": "code",
   "execution_count": 8,
   "metadata": {},
   "outputs": [],
   "source": [
    "og_len = len(df)\n",
    "mask = [False if x < lower_bound or x > upper_bound else True for x in df['price']]\n",
    "df = df[mask]"
   ]
  },
  {
   "cell_type": "code",
   "execution_count": 9,
   "metadata": {},
   "outputs": [
    {
     "data": {
      "text/plain": [
       "0.06393830133535566"
      ]
     },
     "execution_count": 9,
     "metadata": {},
     "output_type": "execute_result"
    }
   ],
   "source": [
    "rows_removed = og_len - len(df)\n",
    "rows_removed / og_len"
   ]
  },
  {
   "cell_type": "code",
   "execution_count": null,
   "metadata": {},
   "outputs": [],
   "source": []
  }
 ],
 "metadata": {
  "interpreter": {
   "hash": "5b419173de24494810e65c4ea4d4c859b912f4352999b480e23ee82152eb9c1e"
  },
  "kernelspec": {
   "display_name": "Python 3.8.12 ('pyZak')",
   "language": "python",
   "name": "python3"
  },
  "language_info": {
   "codemirror_mode": {
    "name": "ipython",
    "version": 3
   },
   "file_extension": ".py",
   "mimetype": "text/x-python",
   "name": "python",
   "nbconvert_exporter": "python",
   "pygments_lexer": "ipython3",
   "version": "3.8.12"
  },
  "orig_nbformat": 4
 },
 "nbformat": 4,
 "nbformat_minor": 2
}
