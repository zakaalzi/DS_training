{
 "cells": [
  {
   "cell_type": "markdown",
   "metadata": {},
   "source": [
    "### Tree-based Modelling EDA\n",
    "Using the existing DataLoader and DataCleaner functionality, I aim to explore different tree-based models. I am expecting to settle for a XGBoost model.\n",
    "\n",
    "I will also use this notebook to explore feature selection techniques "
   ]
  },
  {
   "cell_type": "code",
   "execution_count": 1,
   "metadata": {},
   "outputs": [
    {
     "name": "stderr",
     "output_type": "stream",
     "text": [
      "/opt/anaconda3/envs/pyZak/lib/python3.8/site-packages/xgboost/compat.py:36: FutureWarning: pandas.Int64Index is deprecated and will be removed from pandas in a future version. Use pandas.Index with the appropriate dtype instead.\n",
      "  from pandas import MultiIndex, Int64Index\n"
     ]
    }
   ],
   "source": [
    "# Data Preprocessing\n",
    "from data_preprocessing.DataLoader import DataLoader\n",
    "from data_preprocessing.DataCleaner import DataCleaner\n",
    "\n",
    "# Modelling\n",
    "import xgboost as xgb\n",
    "from sklearn.tree import DecisionTreeRegressor\n",
    "from sklearn.ensemble import RandomForestRegressor, GradientBoostingRegressor, ExtraTreesClassifier\n",
    "\n",
    "# Feature Selection\n",
    "from sklearn.feature_selection import RFECV, SelectFromModel\n",
    "\n",
    "# General\n",
    "import numpy as np"
   ]
  },
  {
   "cell_type": "code",
   "execution_count": 2,
   "metadata": {},
   "outputs": [],
   "source": [
    "data_loader = DataLoader(path=\"car_data.parquet.gzip\")\n",
    "df = data_loader.load_parquet()\n",
    "data_cleaner = DataCleaner(df)"
   ]
  },
  {
   "cell_type": "code",
   "execution_count": 3,
   "metadata": {},
   "outputs": [],
   "source": [
    "data_cleaner.clean_data()\n",
    "new_df = data_cleaner.get_df()\n",
    "# Split data and drop old columns\n",
    "X_train, X_test, y_train, y_test = data_loader.split_data(new_df)\n",
    "data_cleaner.drop_columns(X_train)\n",
    "data_cleaner.drop_columns(X_test)\n",
    "# Encode to ordinal bsaed on train set\n",
    "columns_to_ordinal = [\"co2_grouped\", \"engine_size_grouped\", \"owners_grouped\", \"fuel_type_grouped\", \"make_grouped\", \"doors_grouped\", \"seats_grouped\"]\n",
    "data_cleaner.convert_columns_to_ordinal(columns_to_ordinal, X_train, y_train, X_test)"
   ]
  },
  {
   "cell_type": "markdown",
   "metadata": {},
   "source": [
    "#### Feature Selection using an ExtraTreesClassifier"
   ]
  },
  {
   "cell_type": "code",
   "execution_count": 19,
   "metadata": {},
   "outputs": [
    {
     "data": {
      "text/plain": [
       "ExtraTreesClassifier(max_depth=8)"
      ]
     },
     "execution_count": 19,
     "metadata": {},
     "output_type": "execute_result"
    }
   ],
   "source": [
    "extra_tree_clf = ExtraTreesClassifier(n_estimators=100, max_depth=8)\n",
    "extra_tree_clf.fit(X_train, y_train)"
   ]
  },
  {
   "cell_type": "code",
   "execution_count": 22,
   "metadata": {},
   "outputs": [],
   "source": [
    "importance_dict = dict(zip(X_train.columns, extra_tree_clf.feature_importances_))\n",
    "importance_dict = dict(sorted(importance_dict.items(), key=lambda item: item[1], reverse=True))"
   ]
  },
  {
   "cell_type": "code",
   "execution_count": 37,
   "metadata": {},
   "outputs": [
    {
     "name": "stdout",
     "output_type": "stream",
     "text": [
      "(157838, 39)\n",
      "(157838, 14)\n"
     ]
    },
    {
     "name": "stderr",
     "output_type": "stream",
     "text": [
      "/opt/anaconda3/envs/pyZak/lib/python3.8/site-packages/sklearn/base.py:443: UserWarning: X has feature names, but SelectFromModel was fitted without feature names\n",
      "  warnings.warn(\n"
     ]
    }
   ],
   "source": [
    "# importance_dict\n",
    "model = SelectFromModel(extra_tree_clf, prefit=True)\n",
    "X_new = model.transform(X_train)\n",
    "print(X_train.shape)\n",
    "print(X_new.shape)"
   ]
  },
  {
   "cell_type": "markdown",
   "metadata": {},
   "source": [
    "### RFECV Feature Selection"
   ]
  },
  {
   "cell_type": "code",
   "execution_count": 33,
   "metadata": {},
   "outputs": [],
   "source": [
    "dt = DecisionTreeRegressor(\n",
    "    random_state=1337, max_depth=8, min_samples_split=15)\n",
    "\n",
    "# recursive feature elimination\n",
    "selector_dt = RFECV(dt, cv=2)\n",
    "\n",
    "# fit training data\n",
    "selector_dt.fit(X_train, y_train)\n",
    "\n",
    "selected_dt = X_train.columns[(selector_dt.get_support())]"
   ]
  },
  {
   "cell_type": "code",
   "execution_count": 38,
   "metadata": {},
   "outputs": [],
   "source": [
    "rf = RandomForestRegressor(\n",
    "    n_estimators=20, random_state=1984, max_depth=8, min_samples_split=15, bootstrap=True)\n",
    "selector_rf = RFECV(rf, cv=2)\n",
    "selector_rf.fit(X_train, y_train)\n",
    "selected_rf = X_train.columns[(selector_rf.get_support())]"
   ]
  },
  {
   "cell_type": "code",
   "execution_count": 39,
   "metadata": {},
   "outputs": [
    {
     "name": "stdout",
     "output_type": "stream",
     "text": [
      "Index(['is_ulez', 'is_manual', 'is_new', 'make_grouped', 'fuel_type_grouped',\n",
      "       'seats_grouped', 'owners_grouped', 'engine_size_grouped',\n",
      "       'co2_grouped'],\n",
      "      dtype='object')\n",
      "Index(['is_ulez', 'is_manual', 'is_new', 'image_count', 'make_grouped',\n",
      "       'fuel_type_grouped', 'seats_grouped', 'owners_grouped',\n",
      "       'engine_size_grouped', 'co2_grouped'],\n",
      "      dtype='object')\n"
     ]
    }
   ],
   "source": [
    "print(selected_dt)\n",
    "print(selected_rf)"
   ]
  },
  {
   "cell_type": "code",
   "execution_count": null,
   "metadata": {},
   "outputs": [],
   "source": []
  }
 ],
 "metadata": {
  "interpreter": {
   "hash": "5b419173de24494810e65c4ea4d4c859b912f4352999b480e23ee82152eb9c1e"
  },
  "kernelspec": {
   "display_name": "Python 3.8.12 ('pyZak')",
   "language": "python",
   "name": "python3"
  },
  "language_info": {
   "codemirror_mode": {
    "name": "ipython",
    "version": 3
   },
   "file_extension": ".py",
   "mimetype": "text/x-python",
   "name": "python",
   "nbconvert_exporter": "python",
   "pygments_lexer": "ipython3",
   "version": "3.8.12"
  },
  "orig_nbformat": 4
 },
 "nbformat": 4,
 "nbformat_minor": 2
}
