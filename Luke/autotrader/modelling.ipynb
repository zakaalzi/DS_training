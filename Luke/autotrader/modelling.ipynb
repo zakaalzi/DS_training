{
 "cells": [
  {
   "cell_type": "markdown",
   "metadata": {},
   "source": [
    "### Tree-based Modelling EDA\n",
    "Using the existing DataLoader and DataCleaner functionality, I aim to explore different tree-based models. I am expecting to settle for a XGBoost model.\n",
    "\n",
    "I will also use this notebook to explore feature selection techniques "
   ]
  },
  {
   "cell_type": "code",
   "execution_count": 1,
   "metadata": {},
   "outputs": [
    {
     "name": "stderr",
     "output_type": "stream",
     "text": [
      "/opt/anaconda3/envs/pyZak/lib/python3.8/site-packages/xgboost/compat.py:36: FutureWarning: pandas.Int64Index is deprecated and will be removed from pandas in a future version. Use pandas.Index with the appropriate dtype instead.\n",
      "  from pandas import MultiIndex, Int64Index\n"
     ]
    }
   ],
   "source": [
    "# Data Preprocessing\n",
    "from data_preprocessing.DataLoader import DataLoader\n",
    "from data_preprocessing.DataCleaner import DataCleaner\n",
    "\n",
    "# Modelling\n",
    "import xgboost as xgb\n",
    "from sklearn.tree import DecisionTreeRegressor\n",
    "from sklearn.ensemble import RandomForestRegressor, GradientBoostingRegressor, ExtraTreesClassifier\n",
    "\n",
    "# Feature Selection\n",
    "from sklearn.feature_selection import SelectFromModel\n",
    "from sklearn.model_selection import cross_val_score\n",
    "\n",
    "# General\n",
    "import numpy as np"
   ]
  },
  {
   "cell_type": "code",
   "execution_count": 2,
   "metadata": {},
   "outputs": [],
   "source": [
    "data_loader = DataLoader(path=\"car_data.parquet.gzip\")\n",
    "df = data_loader.load_parquet()\n",
    "data_cleaner = DataCleaner(df)"
   ]
  },
  {
   "cell_type": "code",
   "execution_count": 3,
   "metadata": {},
   "outputs": [],
   "source": [
    "data_cleaner.clean_data()\n",
    "new_df = data_cleaner.get_df()\n",
    "# Split data and drop old columns\n",
    "X_train, X_test, y_train, y_test = data_loader.split_data(new_df)\n",
    "data_cleaner.drop_columns(X_train)\n",
    "data_cleaner.drop_columns(X_test)\n",
    "# Encode to ordinal bsaed on train set\n",
    "columns_to_ordinal = [\"co2_grouped\", \"engine_size_grouped\", \"owners_grouped\", \"fuel_type_grouped\", \"make_grouped\", \"doors_grouped\", \"seats_grouped\"]\n",
    "data_cleaner.convert_columns_to_ordinal(columns_to_ordinal, X_train, y_train, X_test)"
   ]
  },
  {
   "cell_type": "markdown",
   "metadata": {},
   "source": [
    "## Feature Selection using an ExtraTreesClassifier\n",
    "<u> What is an ExtraTrees Model and How does it differ to a Random Forest? </u>  \n",
    "Extra trees are also know as <a href=\"https://orbi.uliege.be/bitstream/2268/9357/1/geurts-mlj-advance.pdf\"><b>Extremely Random Trees</b></a>\n",
    "\n",
    "- Random forest uses boostrap replicas (subsamples input with replacement)\n",
    "- Extra Trees use whole original sample (bootstrapping is optional arg in scikit)\n",
    "- Random forest chooses the optimum split for each branch\n",
    "- Extra Trees choose these splits randomly\n",
    "- Extra trees are computationally more efficient than other ensemble methods"
   ]
  },
  {
   "cell_type": "code",
   "execution_count": 4,
   "metadata": {},
   "outputs": [
    {
     "data": {
      "text/plain": [
       "ExtraTreesClassifier(bootstrap=True, max_depth=16, min_samples_split=4,\n",
       "                     n_estimators=20, random_state=1337)"
      ]
     },
     "execution_count": 4,
     "metadata": {},
     "output_type": "execute_result"
    }
   ],
   "source": [
    "extra_tree_clf = ExtraTreesClassifier(n_estimators=20, max_depth=16, min_samples_split=4, random_state=1337, bootstrap=True)\n",
    "extra_tree_clf.fit(X_train, y_train)"
   ]
  },
  {
   "cell_type": "code",
   "execution_count": 5,
   "metadata": {},
   "outputs": [
    {
     "name": "stdout",
     "output_type": "stream",
     "text": [
      "image_count : 0.18240699816356115\n",
      "co2_grouped : 0.09499500390796864\n",
      "make_grouped : 0.0816674599937495\n",
      "owners_grouped : 0.07965179299610939\n",
      "advert_sentiment : 0.06877785918853063\n",
      "advert_title_sentiment : 0.06844241882328977\n",
      "mileage_deviation_encoded : 0.055499378800171674\n",
      "seats_grouped : 0.047691590453083875\n",
      "doors_grouped : 0.039554421513674116\n",
      "fuel_type_grouped : 0.03735740094943999\n",
      "engine_size_grouped : 0.02968713384556957\n",
      "is_private_plate : 0.02961423392545983\n",
      "is_manual : 0.018355057723976404\n",
      "is_ulez : 0.014817188549698063\n",
      "is_convertible : 0.012088344975618951\n",
      "is_new : 0.010431301818927007\n",
      "model_col_0 : 0.009584391005332748\n",
      "model_col_10 : 0.009491987816772417\n",
      "model_col_1 : 0.008309373940534277\n",
      "model_col_11 : 0.00818655603266088\n",
      "model_col_6 : 0.008162785736843257\n",
      "model_col_2 : 0.00801349787604391\n",
      "model_col_14 : 0.007715090222761606\n",
      "model_col_8 : 0.007629226600500287\n",
      "model_col_13 : 0.007478019375458415\n",
      "model_col_3 : 0.0073886617961535575\n",
      "model_col_4 : 0.0072428139140146746\n",
      "model_col_15 : 0.007242683644420917\n",
      "model_col_12 : 0.007149428502454758\n",
      "model_col_5 : 0.006919087489006208\n",
      "model_col_9 : 0.006879774615112642\n",
      "model_col_7 : 0.0064106679427061\n",
      "is_imported : 0.0051583678603947915\n",
      "has_service_history : 0.0\n",
      "has_website : 0.0\n",
      "has_trim : 0.0\n",
      "known_reg_plate : 0.0\n",
      "vehicle_age : 0.0\n",
      "has_postcode : 0.0\n"
     ]
    }
   ],
   "source": [
    "importance_dict = dict(zip(X_train.columns, extra_tree_clf.feature_importances_))\n",
    "importance_dict = dict(sorted(importance_dict.items(), key=lambda item: item[1], reverse=True))\n",
    "for k,v in importance_dict.items():\n",
    "    print(f\"{k} : {v}\")"
   ]
  },
  {
   "cell_type": "code",
   "execution_count": 6,
   "metadata": {},
   "outputs": [
    {
     "name": "stdout",
     "output_type": "stream",
     "text": [
      "Old shape: (157838, 39)\n",
      "New shape: (157838, 12)\n"
     ]
    },
    {
     "name": "stderr",
     "output_type": "stream",
     "text": [
      "/opt/anaconda3/envs/pyZak/lib/python3.8/site-packages/sklearn/base.py:443: UserWarning: X has feature names, but SelectFromModel was fitted without feature names\n",
      "  warnings.warn(\n"
     ]
    }
   ],
   "source": [
    "# importance_dict\n",
    "print(f\"Old shape: {X_train.shape}\")\n",
    "model = SelectFromModel(extra_tree_clf, prefit=True)\n",
    "X_new = model.transform(X_train)\n",
    "features_out = model.get_feature_names_out(input_features=X_train.columns)\n",
    "print(f\"New shape: {X_new.shape}\")"
   ]
  },
  {
   "cell_type": "code",
   "execution_count": 7,
   "metadata": {},
   "outputs": [
    {
     "name": "stdout",
     "output_type": "stream",
     "text": [
      "is_private_plate : 0.0296\n",
      "mileage_deviation_encoded : 0.0555\n",
      "image_count : 0.1824\n",
      "advert_sentiment : 0.0688\n",
      "advert_title_sentiment : 0.0684\n",
      "make_grouped : 0.0817\n",
      "fuel_type_grouped : 0.0374\n",
      "doors_grouped : 0.0396\n",
      "seats_grouped : 0.0477\n",
      "owners_grouped : 0.0797\n",
      "engine_size_grouped : 0.0297\n",
      "co2_grouped : 0.0950\n"
     ]
    }
   ],
   "source": [
    "for f in features_out:\n",
    "    print(f\"{f} : {importance_dict[f]:.4f}\")"
   ]
  },
  {
   "cell_type": "markdown",
   "metadata": {},
   "source": [
    "## Base Model - Decision Tree"
   ]
  },
  {
   "cell_type": "code",
   "execution_count": 8,
   "metadata": {},
   "outputs": [
    {
     "data": {
      "text/plain": [
       "DecisionTreeRegressor(max_depth=32, random_state=1337)"
      ]
     },
     "execution_count": 8,
     "metadata": {},
     "output_type": "execute_result"
    }
   ],
   "source": [
    "X_train = X_new\n",
    "dt = DecisionTreeRegressor(max_depth=32, random_state=1337)\n",
    "dt.fit(X_train, y_train)"
   ]
  },
  {
   "cell_type": "code",
   "execution_count": 9,
   "metadata": {},
   "outputs": [],
   "source": [
    "basic_dt_scores = cross_val_score(dt, X_train, y_train, cv=10, scoring='neg_mean_absolute_error')\n",
    "def output_score(scores):\n",
    "    print(f\"Mean: {abs(scores.mean()):.3f} (std: {scores.std():.3f})\\n\\n\")"
   ]
  },
  {
   "cell_type": "markdown",
   "metadata": {},
   "source": [
    "## Random Forest"
   ]
  },
  {
   "cell_type": "code",
   "execution_count": 11,
   "metadata": {},
   "outputs": [
    {
     "data": {
      "text/plain": [
       "RandomForestRegressor(max_depth=32, random_state=1337)"
      ]
     },
     "execution_count": 11,
     "metadata": {},
     "output_type": "execute_result"
    }
   ],
   "source": [
    "rf = RandomForestRegressor(n_estimators=100, max_depth=32, random_state=1337)\n",
    "rf.fit(X_train, y_train)"
   ]
  },
  {
   "cell_type": "code",
   "execution_count": 12,
   "metadata": {},
   "outputs": [],
   "source": [
    "basic_rf_scores = cross_val_score(rf, X_train, y_train, cv=10, scoring='neg_mean_absolute_error')"
   ]
  },
  {
   "cell_type": "markdown",
   "metadata": {},
   "source": [
    "### Gradient Boosting Regressor"
   ]
  },
  {
   "cell_type": "code",
   "execution_count": null,
   "metadata": {},
   "outputs": [],
   "source": [
    "gb = GradientBoostingRegressor(n_estimators=100, max_depth =16)\n"
   ]
  },
  {
   "cell_type": "code",
   "execution_count": null,
   "metadata": {},
   "outputs": [],
   "source": [
    "output_score(basic_dt_scores)\n",
    "output_score(basic_rf_scores)"
   ]
  },
  {
   "cell_type": "code",
   "execution_count": null,
   "metadata": {},
   "outputs": [],
   "source": []
  }
 ],
 "metadata": {
  "interpreter": {
   "hash": "5b419173de24494810e65c4ea4d4c859b912f4352999b480e23ee82152eb9c1e"
  },
  "kernelspec": {
   "display_name": "Python 3.8.12 ('pyZak')",
   "language": "python",
   "name": "python3"
  },
  "language_info": {
   "codemirror_mode": {
    "name": "ipython",
    "version": 3
   },
   "file_extension": ".py",
   "mimetype": "text/x-python",
   "name": "python",
   "nbconvert_exporter": "python",
   "pygments_lexer": "ipython3",
   "version": "3.8.12"
  },
  "orig_nbformat": 4
 },
 "nbformat": 4,
 "nbformat_minor": 2
}
